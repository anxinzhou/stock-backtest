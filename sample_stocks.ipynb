{
 "cells": [
  {
   "cell_type": "code",
   "execution_count": 41,
   "metadata": {
    "collapsed": true
   },
   "outputs": [],
   "source": [
    "## sample 220 stocks, 20 each for each sector from sp500\n",
    "import pandas as pd\n",
    "sp500 = pd.read_csv(\"sp500_constituents.csv\", index_col=0)"
   ]
  },
  {
   "cell_type": "code",
   "execution_count": 42,
   "outputs": [
    {
     "data": {
      "text/plain": "                    Security             GICS Sector   \nSymbol                                                 \nMMM                       3M             Industrials  \\\nAOS              A. O. Smith             Industrials   \nABT                   Abbott             Health Care   \nABBV                  AbbVie             Health Care   \nACN                Accenture  Information Technology   \n...                      ...                     ...   \nYUM              Yum! Brands  Consumer Discretionary   \nZBRA      Zebra Technologies  Information Technology   \nZBH            Zimmer Biomet             Health Care   \nZION    Zions Bancorporation              Financials   \nZTS                   Zoetis             Health Care   \n\n                         GICS Sub-Industry    Headquarters Location   \nSymbol                                                                \nMMM               Industrial Conglomerates    Saint Paul, Minnesota  \\\nAOS                      Building Products     Milwaukee, Wisconsin   \nABT                  Health Care Equipment  North Chicago, Illinois   \nABBV                       Pharmaceuticals  North Chicago, Illinois   \nACN         IT Consulting & Other Services          Dublin, Ireland   \n...                                    ...                      ...   \nYUM                            Restaurants     Louisville, Kentucky   \nZBRA    Electronic Equipment & Instruments   Lincolnshire, Illinois   \nZBH                  Health Care Equipment          Warsaw, Indiana   \nZION                        Regional Banks     Salt Lake City, Utah   \nZTS                        Pharmaceuticals   Parsippany, New Jersey   \n\n        Date added      CIK      Founded  \nSymbol                                    \nMMM     1957-03-04    66740         1902  \nAOS     2017-07-26    91142         1916  \nABT     1957-03-04     1800         1888  \nABBV    2012-12-31  1551152  2013 (1888)  \nACN     2011-07-06  1467373         1989  \n...            ...      ...          ...  \nYUM     1997-10-06  1041061         1997  \nZBRA    2019-12-23   877212         1969  \nZBH     2001-08-07  1136869         1927  \nZION    2001-06-22   109380         1873  \nZTS     2013-06-21  1555280         1952  \n\n[503 rows x 7 columns]",
      "text/html": "<div>\n<style scoped>\n    .dataframe tbody tr th:only-of-type {\n        vertical-align: middle;\n    }\n\n    .dataframe tbody tr th {\n        vertical-align: top;\n    }\n\n    .dataframe thead th {\n        text-align: right;\n    }\n</style>\n<table border=\"1\" class=\"dataframe\">\n  <thead>\n    <tr style=\"text-align: right;\">\n      <th></th>\n      <th>Security</th>\n      <th>GICS Sector</th>\n      <th>GICS Sub-Industry</th>\n      <th>Headquarters Location</th>\n      <th>Date added</th>\n      <th>CIK</th>\n      <th>Founded</th>\n    </tr>\n    <tr>\n      <th>Symbol</th>\n      <th></th>\n      <th></th>\n      <th></th>\n      <th></th>\n      <th></th>\n      <th></th>\n      <th></th>\n    </tr>\n  </thead>\n  <tbody>\n    <tr>\n      <th>MMM</th>\n      <td>3M</td>\n      <td>Industrials</td>\n      <td>Industrial Conglomerates</td>\n      <td>Saint Paul, Minnesota</td>\n      <td>1957-03-04</td>\n      <td>66740</td>\n      <td>1902</td>\n    </tr>\n    <tr>\n      <th>AOS</th>\n      <td>A. O. Smith</td>\n      <td>Industrials</td>\n      <td>Building Products</td>\n      <td>Milwaukee, Wisconsin</td>\n      <td>2017-07-26</td>\n      <td>91142</td>\n      <td>1916</td>\n    </tr>\n    <tr>\n      <th>ABT</th>\n      <td>Abbott</td>\n      <td>Health Care</td>\n      <td>Health Care Equipment</td>\n      <td>North Chicago, Illinois</td>\n      <td>1957-03-04</td>\n      <td>1800</td>\n      <td>1888</td>\n    </tr>\n    <tr>\n      <th>ABBV</th>\n      <td>AbbVie</td>\n      <td>Health Care</td>\n      <td>Pharmaceuticals</td>\n      <td>North Chicago, Illinois</td>\n      <td>2012-12-31</td>\n      <td>1551152</td>\n      <td>2013 (1888)</td>\n    </tr>\n    <tr>\n      <th>ACN</th>\n      <td>Accenture</td>\n      <td>Information Technology</td>\n      <td>IT Consulting &amp; Other Services</td>\n      <td>Dublin, Ireland</td>\n      <td>2011-07-06</td>\n      <td>1467373</td>\n      <td>1989</td>\n    </tr>\n    <tr>\n      <th>...</th>\n      <td>...</td>\n      <td>...</td>\n      <td>...</td>\n      <td>...</td>\n      <td>...</td>\n      <td>...</td>\n      <td>...</td>\n    </tr>\n    <tr>\n      <th>YUM</th>\n      <td>Yum! Brands</td>\n      <td>Consumer Discretionary</td>\n      <td>Restaurants</td>\n      <td>Louisville, Kentucky</td>\n      <td>1997-10-06</td>\n      <td>1041061</td>\n      <td>1997</td>\n    </tr>\n    <tr>\n      <th>ZBRA</th>\n      <td>Zebra Technologies</td>\n      <td>Information Technology</td>\n      <td>Electronic Equipment &amp; Instruments</td>\n      <td>Lincolnshire, Illinois</td>\n      <td>2019-12-23</td>\n      <td>877212</td>\n      <td>1969</td>\n    </tr>\n    <tr>\n      <th>ZBH</th>\n      <td>Zimmer Biomet</td>\n      <td>Health Care</td>\n      <td>Health Care Equipment</td>\n      <td>Warsaw, Indiana</td>\n      <td>2001-08-07</td>\n      <td>1136869</td>\n      <td>1927</td>\n    </tr>\n    <tr>\n      <th>ZION</th>\n      <td>Zions Bancorporation</td>\n      <td>Financials</td>\n      <td>Regional Banks</td>\n      <td>Salt Lake City, Utah</td>\n      <td>2001-06-22</td>\n      <td>109380</td>\n      <td>1873</td>\n    </tr>\n    <tr>\n      <th>ZTS</th>\n      <td>Zoetis</td>\n      <td>Health Care</td>\n      <td>Pharmaceuticals</td>\n      <td>Parsippany, New Jersey</td>\n      <td>2013-06-21</td>\n      <td>1555280</td>\n      <td>1952</td>\n    </tr>\n  </tbody>\n</table>\n<p>503 rows × 7 columns</p>\n</div>"
     },
     "execution_count": 42,
     "metadata": {},
     "output_type": "execute_result"
    }
   ],
   "source": [
    "sp500"
   ],
   "metadata": {
    "collapsed": false
   }
  },
  {
   "cell_type": "code",
   "execution_count": 43,
   "outputs": [
    {
     "data": {
      "text/plain": "                        Security  GICS Sub-Industry  Headquarters Location   \nGICS Sector                                                                  \nCommunication Services        23                 23                     23  \\\nConsumer Discretionary        53                 53                     53   \nConsumer Staples              37                 37                     37   \nEnergy                        23                 23                     23   \nFinancials                    72                 72                     72   \nHealth Care                   65                 65                     65   \nIndustrials                   74                 74                     74   \nInformation Technology        67                 67                     67   \nMaterials                     29                 29                     29   \nReal Estate                   30                 30                     30   \nUtilities                     30                 30                     30   \n\n                        Date added  CIK  Founded  \nGICS Sector                                       \nCommunication Services          23   23       23  \nConsumer Discretionary          52   53       53  \nConsumer Staples                37   37       37  \nEnergy                          23   23       23  \nFinancials                      70   72       72  \nHealth Care                     64   65       65  \nIndustrials                     72   74       74  \nInformation Technology          66   67       67  \nMaterials                       28   29       29  \nReal Estate                     29   30       30  \nUtilities                       29   30       30  ",
      "text/html": "<div>\n<style scoped>\n    .dataframe tbody tr th:only-of-type {\n        vertical-align: middle;\n    }\n\n    .dataframe tbody tr th {\n        vertical-align: top;\n    }\n\n    .dataframe thead th {\n        text-align: right;\n    }\n</style>\n<table border=\"1\" class=\"dataframe\">\n  <thead>\n    <tr style=\"text-align: right;\">\n      <th></th>\n      <th>Security</th>\n      <th>GICS Sub-Industry</th>\n      <th>Headquarters Location</th>\n      <th>Date added</th>\n      <th>CIK</th>\n      <th>Founded</th>\n    </tr>\n    <tr>\n      <th>GICS Sector</th>\n      <th></th>\n      <th></th>\n      <th></th>\n      <th></th>\n      <th></th>\n      <th></th>\n    </tr>\n  </thead>\n  <tbody>\n    <tr>\n      <th>Communication Services</th>\n      <td>23</td>\n      <td>23</td>\n      <td>23</td>\n      <td>23</td>\n      <td>23</td>\n      <td>23</td>\n    </tr>\n    <tr>\n      <th>Consumer Discretionary</th>\n      <td>53</td>\n      <td>53</td>\n      <td>53</td>\n      <td>52</td>\n      <td>53</td>\n      <td>53</td>\n    </tr>\n    <tr>\n      <th>Consumer Staples</th>\n      <td>37</td>\n      <td>37</td>\n      <td>37</td>\n      <td>37</td>\n      <td>37</td>\n      <td>37</td>\n    </tr>\n    <tr>\n      <th>Energy</th>\n      <td>23</td>\n      <td>23</td>\n      <td>23</td>\n      <td>23</td>\n      <td>23</td>\n      <td>23</td>\n    </tr>\n    <tr>\n      <th>Financials</th>\n      <td>72</td>\n      <td>72</td>\n      <td>72</td>\n      <td>70</td>\n      <td>72</td>\n      <td>72</td>\n    </tr>\n    <tr>\n      <th>Health Care</th>\n      <td>65</td>\n      <td>65</td>\n      <td>65</td>\n      <td>64</td>\n      <td>65</td>\n      <td>65</td>\n    </tr>\n    <tr>\n      <th>Industrials</th>\n      <td>74</td>\n      <td>74</td>\n      <td>74</td>\n      <td>72</td>\n      <td>74</td>\n      <td>74</td>\n    </tr>\n    <tr>\n      <th>Information Technology</th>\n      <td>67</td>\n      <td>67</td>\n      <td>67</td>\n      <td>66</td>\n      <td>67</td>\n      <td>67</td>\n    </tr>\n    <tr>\n      <th>Materials</th>\n      <td>29</td>\n      <td>29</td>\n      <td>29</td>\n      <td>28</td>\n      <td>29</td>\n      <td>29</td>\n    </tr>\n    <tr>\n      <th>Real Estate</th>\n      <td>30</td>\n      <td>30</td>\n      <td>30</td>\n      <td>29</td>\n      <td>30</td>\n      <td>30</td>\n    </tr>\n    <tr>\n      <th>Utilities</th>\n      <td>30</td>\n      <td>30</td>\n      <td>30</td>\n      <td>29</td>\n      <td>30</td>\n      <td>30</td>\n    </tr>\n  </tbody>\n</table>\n</div>"
     },
     "execution_count": 43,
     "metadata": {},
     "output_type": "execute_result"
    }
   ],
   "source": [
    "sp500.groupby(by='GICS Sector').count()"
   ],
   "metadata": {
    "collapsed": false
   }
  },
  {
   "cell_type": "code",
   "execution_count": 44,
   "outputs": [
    {
     "data": {
      "text/plain": "                        Security  GICS Sub-Industry  Headquarters Location   \nGICS Sector                                                                  \nCommunication Services        20                 20                     20  \\\nConsumer Discretionary        20                 20                     20   \nConsumer Staples              20                 20                     20   \nEnergy                        20                 20                     20   \nFinancials                    20                 20                     20   \nHealth Care                   20                 20                     20   \nIndustrials                   20                 20                     20   \nInformation Technology        20                 20                     20   \nMaterials                     20                 20                     20   \nReal Estate                   20                 20                     20   \nUtilities                     20                 20                     20   \n\n                        Date added  CIK  Founded  \nGICS Sector                                       \nCommunication Services          20   20       20  \nConsumer Discretionary          20   20       20  \nConsumer Staples                20   20       20  \nEnergy                          20   20       20  \nFinancials                      20   20       20  \nHealth Care                     20   20       20  \nIndustrials                     20   20       20  \nInformation Technology          20   20       20  \nMaterials                       19   20       20  \nReal Estate                     20   20       20  \nUtilities                       19   20       20  ",
      "text/html": "<div>\n<style scoped>\n    .dataframe tbody tr th:only-of-type {\n        vertical-align: middle;\n    }\n\n    .dataframe tbody tr th {\n        vertical-align: top;\n    }\n\n    .dataframe thead th {\n        text-align: right;\n    }\n</style>\n<table border=\"1\" class=\"dataframe\">\n  <thead>\n    <tr style=\"text-align: right;\">\n      <th></th>\n      <th>Security</th>\n      <th>GICS Sub-Industry</th>\n      <th>Headquarters Location</th>\n      <th>Date added</th>\n      <th>CIK</th>\n      <th>Founded</th>\n    </tr>\n    <tr>\n      <th>GICS Sector</th>\n      <th></th>\n      <th></th>\n      <th></th>\n      <th></th>\n      <th></th>\n      <th></th>\n    </tr>\n  </thead>\n  <tbody>\n    <tr>\n      <th>Communication Services</th>\n      <td>20</td>\n      <td>20</td>\n      <td>20</td>\n      <td>20</td>\n      <td>20</td>\n      <td>20</td>\n    </tr>\n    <tr>\n      <th>Consumer Discretionary</th>\n      <td>20</td>\n      <td>20</td>\n      <td>20</td>\n      <td>20</td>\n      <td>20</td>\n      <td>20</td>\n    </tr>\n    <tr>\n      <th>Consumer Staples</th>\n      <td>20</td>\n      <td>20</td>\n      <td>20</td>\n      <td>20</td>\n      <td>20</td>\n      <td>20</td>\n    </tr>\n    <tr>\n      <th>Energy</th>\n      <td>20</td>\n      <td>20</td>\n      <td>20</td>\n      <td>20</td>\n      <td>20</td>\n      <td>20</td>\n    </tr>\n    <tr>\n      <th>Financials</th>\n      <td>20</td>\n      <td>20</td>\n      <td>20</td>\n      <td>20</td>\n      <td>20</td>\n      <td>20</td>\n    </tr>\n    <tr>\n      <th>Health Care</th>\n      <td>20</td>\n      <td>20</td>\n      <td>20</td>\n      <td>20</td>\n      <td>20</td>\n      <td>20</td>\n    </tr>\n    <tr>\n      <th>Industrials</th>\n      <td>20</td>\n      <td>20</td>\n      <td>20</td>\n      <td>20</td>\n      <td>20</td>\n      <td>20</td>\n    </tr>\n    <tr>\n      <th>Information Technology</th>\n      <td>20</td>\n      <td>20</td>\n      <td>20</td>\n      <td>20</td>\n      <td>20</td>\n      <td>20</td>\n    </tr>\n    <tr>\n      <th>Materials</th>\n      <td>20</td>\n      <td>20</td>\n      <td>20</td>\n      <td>19</td>\n      <td>20</td>\n      <td>20</td>\n    </tr>\n    <tr>\n      <th>Real Estate</th>\n      <td>20</td>\n      <td>20</td>\n      <td>20</td>\n      <td>20</td>\n      <td>20</td>\n      <td>20</td>\n    </tr>\n    <tr>\n      <th>Utilities</th>\n      <td>20</td>\n      <td>20</td>\n      <td>20</td>\n      <td>19</td>\n      <td>20</td>\n      <td>20</td>\n    </tr>\n  </tbody>\n</table>\n</div>"
     },
     "execution_count": 44,
     "metadata": {},
     "output_type": "execute_result"
    }
   ],
   "source": [
    "def sample_stocks(g):\n",
    "    stocks = g.sample(n=20, random_state=1)\n",
    "    return stocks\n",
    "sp220 = sp500.groupby(by='GICS Sector', group_keys=False).apply(sample_stocks)\n",
    "sp220.groupby(by='GICS Sector').count()"
   ],
   "metadata": {
    "collapsed": false
   }
  },
  {
   "cell_type": "code",
   "execution_count": 45,
   "outputs": [
    {
     "data": {
      "text/plain": "                    Security             GICS Sector   \nSymbol                                                 \nTTWO    Take-Two Interactive  Communication Services  \\\nOMC            Omnicom Group  Communication Services   \nT                       AT&T  Communication Services   \nMETA          Meta Platforms  Communication Services   \nTMUS             T-Mobile US  Communication Services   \n...                      ...                     ...   \nFE               FirstEnergy               Utilities   \nEIX     Edison International               Utilities   \nCMS               CMS Energy               Utilities   \nSO          Southern Company               Utilities   \nLNT           Alliant Energy               Utilities   \n\n                            GICS Sub-Industry    Headquarters Location   \nSymbol                                                                   \nTTWO           Interactive Home Entertainment  New York City, New York  \\\nOMC                               Advertising  New York City, New York   \nT       Integrated Telecommunication Services            Dallas, Texas   \nMETA             Interactive Media & Services   Menlo Park, California   \nTMUS      Wireless Telecommunication Services     Bellevue, Washington   \n...                                       ...                      ...   \nFE                         Electric Utilities              Akron, Ohio   \nEIX                        Electric Utilities     Rosemead, California   \nCMS                           Multi-Utilities        Jackson, Michigan   \nSO                         Electric Utilities         Atlanta, Georgia   \nLNT                        Electric Utilities       Madison, Wisconsin   \n\n        Date added      CIK      Founded  \nSymbol                                    \nTTWO    2018-03-19   946581         1993  \nOMC     1997-12-31    29989         1986  \nT       1983-11-30   732717  1983 (1885)  \nMETA    2013-12-23  1326801         2004  \nTMUS    2019-07-15  1283699         1994  \n...            ...      ...          ...  \nFE      1997-11-28  1031296         1997  \nEIX     1957-03-04   827052         1886  \nCMS     1957-03-04   811156         1886  \nSO      1957-03-04    92122         1945  \nLNT     2016-07-01   352541         1917  \n\n[220 rows x 7 columns]",
      "text/html": "<div>\n<style scoped>\n    .dataframe tbody tr th:only-of-type {\n        vertical-align: middle;\n    }\n\n    .dataframe tbody tr th {\n        vertical-align: top;\n    }\n\n    .dataframe thead th {\n        text-align: right;\n    }\n</style>\n<table border=\"1\" class=\"dataframe\">\n  <thead>\n    <tr style=\"text-align: right;\">\n      <th></th>\n      <th>Security</th>\n      <th>GICS Sector</th>\n      <th>GICS Sub-Industry</th>\n      <th>Headquarters Location</th>\n      <th>Date added</th>\n      <th>CIK</th>\n      <th>Founded</th>\n    </tr>\n    <tr>\n      <th>Symbol</th>\n      <th></th>\n      <th></th>\n      <th></th>\n      <th></th>\n      <th></th>\n      <th></th>\n      <th></th>\n    </tr>\n  </thead>\n  <tbody>\n    <tr>\n      <th>TTWO</th>\n      <td>Take-Two Interactive</td>\n      <td>Communication Services</td>\n      <td>Interactive Home Entertainment</td>\n      <td>New York City, New York</td>\n      <td>2018-03-19</td>\n      <td>946581</td>\n      <td>1993</td>\n    </tr>\n    <tr>\n      <th>OMC</th>\n      <td>Omnicom Group</td>\n      <td>Communication Services</td>\n      <td>Advertising</td>\n      <td>New York City, New York</td>\n      <td>1997-12-31</td>\n      <td>29989</td>\n      <td>1986</td>\n    </tr>\n    <tr>\n      <th>T</th>\n      <td>AT&amp;T</td>\n      <td>Communication Services</td>\n      <td>Integrated Telecommunication Services</td>\n      <td>Dallas, Texas</td>\n      <td>1983-11-30</td>\n      <td>732717</td>\n      <td>1983 (1885)</td>\n    </tr>\n    <tr>\n      <th>META</th>\n      <td>Meta Platforms</td>\n      <td>Communication Services</td>\n      <td>Interactive Media &amp; Services</td>\n      <td>Menlo Park, California</td>\n      <td>2013-12-23</td>\n      <td>1326801</td>\n      <td>2004</td>\n    </tr>\n    <tr>\n      <th>TMUS</th>\n      <td>T-Mobile US</td>\n      <td>Communication Services</td>\n      <td>Wireless Telecommunication Services</td>\n      <td>Bellevue, Washington</td>\n      <td>2019-07-15</td>\n      <td>1283699</td>\n      <td>1994</td>\n    </tr>\n    <tr>\n      <th>...</th>\n      <td>...</td>\n      <td>...</td>\n      <td>...</td>\n      <td>...</td>\n      <td>...</td>\n      <td>...</td>\n      <td>...</td>\n    </tr>\n    <tr>\n      <th>FE</th>\n      <td>FirstEnergy</td>\n      <td>Utilities</td>\n      <td>Electric Utilities</td>\n      <td>Akron, Ohio</td>\n      <td>1997-11-28</td>\n      <td>1031296</td>\n      <td>1997</td>\n    </tr>\n    <tr>\n      <th>EIX</th>\n      <td>Edison International</td>\n      <td>Utilities</td>\n      <td>Electric Utilities</td>\n      <td>Rosemead, California</td>\n      <td>1957-03-04</td>\n      <td>827052</td>\n      <td>1886</td>\n    </tr>\n    <tr>\n      <th>CMS</th>\n      <td>CMS Energy</td>\n      <td>Utilities</td>\n      <td>Multi-Utilities</td>\n      <td>Jackson, Michigan</td>\n      <td>1957-03-04</td>\n      <td>811156</td>\n      <td>1886</td>\n    </tr>\n    <tr>\n      <th>SO</th>\n      <td>Southern Company</td>\n      <td>Utilities</td>\n      <td>Electric Utilities</td>\n      <td>Atlanta, Georgia</td>\n      <td>1957-03-04</td>\n      <td>92122</td>\n      <td>1945</td>\n    </tr>\n    <tr>\n      <th>LNT</th>\n      <td>Alliant Energy</td>\n      <td>Utilities</td>\n      <td>Electric Utilities</td>\n      <td>Madison, Wisconsin</td>\n      <td>2016-07-01</td>\n      <td>352541</td>\n      <td>1917</td>\n    </tr>\n  </tbody>\n</table>\n<p>220 rows × 7 columns</p>\n</div>"
     },
     "execution_count": 45,
     "metadata": {},
     "output_type": "execute_result"
    }
   ],
   "source": [
    "sp220"
   ],
   "metadata": {
    "collapsed": false
   }
  },
  {
   "cell_type": "code",
   "execution_count": 46,
   "outputs": [
    {
     "data": {
      "text/plain": "                    Security             GICS Sector   \nSymbol                                                 \nTTWO    Take-Two Interactive  Communication Services  \\\nOMC            Omnicom Group  Communication Services   \nT                       AT&T  Communication Services   \nMETA          Meta Platforms  Communication Services   \nTMUS             T-Mobile US  Communication Services   \n...                      ...                     ...   \nFE               FirstEnergy               Utilities   \nEIX     Edison International               Utilities   \nCMS               CMS Energy               Utilities   \nSO          Southern Company               Utilities   \nLNT           Alliant Energy               Utilities   \n\n                            GICS Sub-Industry    Headquarters Location   \nSymbol                                                                   \nTTWO           Interactive Home Entertainment  New York City, New York  \\\nOMC                               Advertising  New York City, New York   \nT       Integrated Telecommunication Services            Dallas, Texas   \nMETA             Interactive Media & Services   Menlo Park, California   \nTMUS      Wireless Telecommunication Services     Bellevue, Washington   \n...                                       ...                      ...   \nFE                         Electric Utilities              Akron, Ohio   \nEIX                        Electric Utilities     Rosemead, California   \nCMS                           Multi-Utilities        Jackson, Michigan   \nSO                         Electric Utilities         Atlanta, Georgia   \nLNT                        Electric Utilities       Madison, Wisconsin   \n\n        Date added      CIK      Founded  \nSymbol                                    \nTTWO    2018-03-19   946581         1993  \nOMC     1997-12-31    29989         1986  \nT       1983-11-30   732717  1983 (1885)  \nMETA    2013-12-23  1326801         2004  \nTMUS    2019-07-15  1283699         1994  \n...            ...      ...          ...  \nFE      1997-11-28  1031296         1997  \nEIX     1957-03-04   827052         1886  \nCMS     1957-03-04   811156         1886  \nSO      1957-03-04    92122         1945  \nLNT     2016-07-01   352541         1917  \n\n[220 rows x 7 columns]",
      "text/html": "<div>\n<style scoped>\n    .dataframe tbody tr th:only-of-type {\n        vertical-align: middle;\n    }\n\n    .dataframe tbody tr th {\n        vertical-align: top;\n    }\n\n    .dataframe thead th {\n        text-align: right;\n    }\n</style>\n<table border=\"1\" class=\"dataframe\">\n  <thead>\n    <tr style=\"text-align: right;\">\n      <th></th>\n      <th>Security</th>\n      <th>GICS Sector</th>\n      <th>GICS Sub-Industry</th>\n      <th>Headquarters Location</th>\n      <th>Date added</th>\n      <th>CIK</th>\n      <th>Founded</th>\n    </tr>\n    <tr>\n      <th>Symbol</th>\n      <th></th>\n      <th></th>\n      <th></th>\n      <th></th>\n      <th></th>\n      <th></th>\n      <th></th>\n    </tr>\n  </thead>\n  <tbody>\n    <tr>\n      <th>TTWO</th>\n      <td>Take-Two Interactive</td>\n      <td>Communication Services</td>\n      <td>Interactive Home Entertainment</td>\n      <td>New York City, New York</td>\n      <td>2018-03-19</td>\n      <td>946581</td>\n      <td>1993</td>\n    </tr>\n    <tr>\n      <th>OMC</th>\n      <td>Omnicom Group</td>\n      <td>Communication Services</td>\n      <td>Advertising</td>\n      <td>New York City, New York</td>\n      <td>1997-12-31</td>\n      <td>29989</td>\n      <td>1986</td>\n    </tr>\n    <tr>\n      <th>T</th>\n      <td>AT&amp;T</td>\n      <td>Communication Services</td>\n      <td>Integrated Telecommunication Services</td>\n      <td>Dallas, Texas</td>\n      <td>1983-11-30</td>\n      <td>732717</td>\n      <td>1983 (1885)</td>\n    </tr>\n    <tr>\n      <th>META</th>\n      <td>Meta Platforms</td>\n      <td>Communication Services</td>\n      <td>Interactive Media &amp; Services</td>\n      <td>Menlo Park, California</td>\n      <td>2013-12-23</td>\n      <td>1326801</td>\n      <td>2004</td>\n    </tr>\n    <tr>\n      <th>TMUS</th>\n      <td>T-Mobile US</td>\n      <td>Communication Services</td>\n      <td>Wireless Telecommunication Services</td>\n      <td>Bellevue, Washington</td>\n      <td>2019-07-15</td>\n      <td>1283699</td>\n      <td>1994</td>\n    </tr>\n    <tr>\n      <th>...</th>\n      <td>...</td>\n      <td>...</td>\n      <td>...</td>\n      <td>...</td>\n      <td>...</td>\n      <td>...</td>\n      <td>...</td>\n    </tr>\n    <tr>\n      <th>FE</th>\n      <td>FirstEnergy</td>\n      <td>Utilities</td>\n      <td>Electric Utilities</td>\n      <td>Akron, Ohio</td>\n      <td>1997-11-28</td>\n      <td>1031296</td>\n      <td>1997</td>\n    </tr>\n    <tr>\n      <th>EIX</th>\n      <td>Edison International</td>\n      <td>Utilities</td>\n      <td>Electric Utilities</td>\n      <td>Rosemead, California</td>\n      <td>1957-03-04</td>\n      <td>827052</td>\n      <td>1886</td>\n    </tr>\n    <tr>\n      <th>CMS</th>\n      <td>CMS Energy</td>\n      <td>Utilities</td>\n      <td>Multi-Utilities</td>\n      <td>Jackson, Michigan</td>\n      <td>1957-03-04</td>\n      <td>811156</td>\n      <td>1886</td>\n    </tr>\n    <tr>\n      <th>SO</th>\n      <td>Southern Company</td>\n      <td>Utilities</td>\n      <td>Electric Utilities</td>\n      <td>Atlanta, Georgia</td>\n      <td>1957-03-04</td>\n      <td>92122</td>\n      <td>1945</td>\n    </tr>\n    <tr>\n      <th>LNT</th>\n      <td>Alliant Energy</td>\n      <td>Utilities</td>\n      <td>Electric Utilities</td>\n      <td>Madison, Wisconsin</td>\n      <td>2016-07-01</td>\n      <td>352541</td>\n      <td>1917</td>\n    </tr>\n  </tbody>\n</table>\n<p>220 rows × 7 columns</p>\n</div>"
     },
     "execution_count": 46,
     "metadata": {},
     "output_type": "execute_result"
    }
   ],
   "source": [
    "sp220"
   ],
   "metadata": {
    "collapsed": false
   }
  },
  {
   "cell_type": "code",
   "execution_count": 47,
   "outputs": [],
   "source": [
    "sp220.to_csv(\"sp220.csv\")"
   ],
   "metadata": {
    "collapsed": false
   }
  }
 ],
 "metadata": {
  "kernelspec": {
   "display_name": "Python 3",
   "language": "python",
   "name": "python3"
  },
  "language_info": {
   "codemirror_mode": {
    "name": "ipython",
    "version": 2
   },
   "file_extension": ".py",
   "mimetype": "text/x-python",
   "name": "python",
   "nbconvert_exporter": "python",
   "pygments_lexer": "ipython2",
   "version": "2.7.6"
  }
 },
 "nbformat": 4,
 "nbformat_minor": 0
}
