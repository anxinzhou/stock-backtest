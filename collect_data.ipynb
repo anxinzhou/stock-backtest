{
 "cells": [
  {
   "cell_type": "code",
   "execution_count": 250,
   "outputs": [],
   "source": [
    "import pandas as pd\n",
    "import yfinance as yf\n",
    "# technical\n",
    "# raw rice\n",
    "# price adjusted\n",
    "# volume\n",
    "# beta\n",
    "\n",
    "# fundamental\n",
    "# eps earnigns per share\n",
    "# revenue\n",
    "\n",
    "# reference\n",
    "# market cap\n",
    "# sector\n",
    "\n",
    "# example\n",
    "# msft = yf.Ticker(\"MSFT\")\n",
    "# hist = msft.history(period='1mo', keepna=False)\n",
    "# # Technical\n",
    "# price_adjusted = hist.Close\n",
    "# volume = hist.Volume\n",
    "# beta = msft.info['beta']\n",
    "#\n",
    "# # Fundamental data\n",
    "# revenue = msft.quarterly_income_stmt.loc['Total Revenue']\n",
    "# diluted_eps = msft.quarterly_income_stmt.loc['Diluted EPS']\n",
    "#\n",
    "# # Reference data\n",
    "# marketCap = msft.info['marketCap']\n",
    "# sector = msft.info['sector']"
   ],
   "metadata": {
    "collapsed": false
   }
  },
  {
   "cell_type": "code",
   "execution_count": 104,
   "outputs": [],
   "source": [
    "# read choosen sp220 from sp500\n",
    "sp220 = pd.read_csv(\"sp220.csv\", index_col=0)"
   ],
   "metadata": {
    "collapsed": false
   }
  },
  {
   "cell_type": "code",
   "execution_count": 106,
   "outputs": [
    {
     "data": {
      "text/plain": "                    Security             GICS Sector   \nSymbol                                                 \nTTWO    Take-Two Interactive  Communication Services  \\\nOMC            Omnicom Group  Communication Services   \nT                       AT&T  Communication Services   \nMETA          Meta Platforms  Communication Services   \nTMUS             T-Mobile US  Communication Services   \n...                      ...                     ...   \nFE               FirstEnergy               Utilities   \nEIX     Edison International               Utilities   \nCMS               CMS Energy               Utilities   \nSO          Southern Company               Utilities   \nLNT           Alliant Energy               Utilities   \n\n                            GICS Sub-Industry    Headquarters Location   \nSymbol                                                                   \nTTWO           Interactive Home Entertainment  New York City, New York  \\\nOMC                               Advertising  New York City, New York   \nT       Integrated Telecommunication Services            Dallas, Texas   \nMETA             Interactive Media & Services   Menlo Park, California   \nTMUS      Wireless Telecommunication Services     Bellevue, Washington   \n...                                       ...                      ...   \nFE                         Electric Utilities              Akron, Ohio   \nEIX                        Electric Utilities     Rosemead, California   \nCMS                           Multi-Utilities        Jackson, Michigan   \nSO                         Electric Utilities         Atlanta, Georgia   \nLNT                        Electric Utilities       Madison, Wisconsin   \n\n        Date added      CIK      Founded  \nSymbol                                    \nTTWO    2018-03-19   946581         1993  \nOMC     1997-12-31    29989         1986  \nT       1983-11-30   732717  1983 (1885)  \nMETA    2013-12-23  1326801         2004  \nTMUS    2019-07-15  1283699         1994  \n...            ...      ...          ...  \nFE      1997-11-28  1031296         1997  \nEIX     1957-03-04   827052         1886  \nCMS     1957-03-04   811156         1886  \nSO      1957-03-04    92122         1945  \nLNT     2016-07-01   352541         1917  \n\n[220 rows x 7 columns]",
      "text/html": "<div>\n<style scoped>\n    .dataframe tbody tr th:only-of-type {\n        vertical-align: middle;\n    }\n\n    .dataframe tbody tr th {\n        vertical-align: top;\n    }\n\n    .dataframe thead th {\n        text-align: right;\n    }\n</style>\n<table border=\"1\" class=\"dataframe\">\n  <thead>\n    <tr style=\"text-align: right;\">\n      <th></th>\n      <th>Security</th>\n      <th>GICS Sector</th>\n      <th>GICS Sub-Industry</th>\n      <th>Headquarters Location</th>\n      <th>Date added</th>\n      <th>CIK</th>\n      <th>Founded</th>\n    </tr>\n    <tr>\n      <th>Symbol</th>\n      <th></th>\n      <th></th>\n      <th></th>\n      <th></th>\n      <th></th>\n      <th></th>\n      <th></th>\n    </tr>\n  </thead>\n  <tbody>\n    <tr>\n      <th>TTWO</th>\n      <td>Take-Two Interactive</td>\n      <td>Communication Services</td>\n      <td>Interactive Home Entertainment</td>\n      <td>New York City, New York</td>\n      <td>2018-03-19</td>\n      <td>946581</td>\n      <td>1993</td>\n    </tr>\n    <tr>\n      <th>OMC</th>\n      <td>Omnicom Group</td>\n      <td>Communication Services</td>\n      <td>Advertising</td>\n      <td>New York City, New York</td>\n      <td>1997-12-31</td>\n      <td>29989</td>\n      <td>1986</td>\n    </tr>\n    <tr>\n      <th>T</th>\n      <td>AT&amp;T</td>\n      <td>Communication Services</td>\n      <td>Integrated Telecommunication Services</td>\n      <td>Dallas, Texas</td>\n      <td>1983-11-30</td>\n      <td>732717</td>\n      <td>1983 (1885)</td>\n    </tr>\n    <tr>\n      <th>META</th>\n      <td>Meta Platforms</td>\n      <td>Communication Services</td>\n      <td>Interactive Media &amp; Services</td>\n      <td>Menlo Park, California</td>\n      <td>2013-12-23</td>\n      <td>1326801</td>\n      <td>2004</td>\n    </tr>\n    <tr>\n      <th>TMUS</th>\n      <td>T-Mobile US</td>\n      <td>Communication Services</td>\n      <td>Wireless Telecommunication Services</td>\n      <td>Bellevue, Washington</td>\n      <td>2019-07-15</td>\n      <td>1283699</td>\n      <td>1994</td>\n    </tr>\n    <tr>\n      <th>...</th>\n      <td>...</td>\n      <td>...</td>\n      <td>...</td>\n      <td>...</td>\n      <td>...</td>\n      <td>...</td>\n      <td>...</td>\n    </tr>\n    <tr>\n      <th>FE</th>\n      <td>FirstEnergy</td>\n      <td>Utilities</td>\n      <td>Electric Utilities</td>\n      <td>Akron, Ohio</td>\n      <td>1997-11-28</td>\n      <td>1031296</td>\n      <td>1997</td>\n    </tr>\n    <tr>\n      <th>EIX</th>\n      <td>Edison International</td>\n      <td>Utilities</td>\n      <td>Electric Utilities</td>\n      <td>Rosemead, California</td>\n      <td>1957-03-04</td>\n      <td>827052</td>\n      <td>1886</td>\n    </tr>\n    <tr>\n      <th>CMS</th>\n      <td>CMS Energy</td>\n      <td>Utilities</td>\n      <td>Multi-Utilities</td>\n      <td>Jackson, Michigan</td>\n      <td>1957-03-04</td>\n      <td>811156</td>\n      <td>1886</td>\n    </tr>\n    <tr>\n      <th>SO</th>\n      <td>Southern Company</td>\n      <td>Utilities</td>\n      <td>Electric Utilities</td>\n      <td>Atlanta, Georgia</td>\n      <td>1957-03-04</td>\n      <td>92122</td>\n      <td>1945</td>\n    </tr>\n    <tr>\n      <th>LNT</th>\n      <td>Alliant Energy</td>\n      <td>Utilities</td>\n      <td>Electric Utilities</td>\n      <td>Madison, Wisconsin</td>\n      <td>2016-07-01</td>\n      <td>352541</td>\n      <td>1917</td>\n    </tr>\n  </tbody>\n</table>\n<p>220 rows × 7 columns</p>\n</div>"
     },
     "execution_count": 106,
     "metadata": {},
     "output_type": "execute_result"
    }
   ],
   "source": [
    "sp220"
   ],
   "metadata": {
    "collapsed": false
   }
  },
  {
   "cell_type": "code",
   "execution_count": 136,
   "outputs": [],
   "source": [
    "symbols = sp220.index"
   ],
   "metadata": {
    "collapsed": false
   }
  },
  {
   "cell_type": "code",
   "execution_count": 137,
   "outputs": [
    {
     "data": {
      "text/plain": "Index(['TTWO', 'OMC', 'T', 'META', 'TMUS', 'NWS', 'IPG', 'CHTR', 'GOOG',\n       'PARA',\n       ...\n       'PNW', 'AWK', 'AEE', 'PEG', 'CNP', 'FE', 'EIX', 'CMS', 'SO', 'LNT'],\n      dtype='object', name='Symbol', length=220)"
     },
     "execution_count": 137,
     "metadata": {},
     "output_type": "execute_result"
    }
   ],
   "source": [
    "symbols"
   ],
   "metadata": {
    "collapsed": false
   }
  },
  {
   "cell_type": "code",
   "execution_count": 218,
   "outputs": [],
   "source": [
    "tickers = yf.Tickers(' '.join(symbols))"
   ],
   "metadata": {
    "collapsed": false
   }
  },
  {
   "cell_type": "code",
   "execution_count": 139,
   "outputs": [
    {
     "data": {
      "text/plain": "yfinance.Tickers object <TTWO,OMC,T,META,TMUS,NWS,IPG,CHTR,GOOG,PARA,DIS,EA,GOOGL,NFLX,ATVI,NWSA,WBD,VZ,FOX,FOXA,MCD,APTV,WYNN,MHK,MGM,TJX,NKE,PHM,TSLA,GRMN,CCL,AZO,GPC,VFC,POOL,ROST,HD,RCL,RL,NCLH,BF.B,PM,BG,KR,TAP,MNST,KHC,WBA,KDP,MKC,PG,HRL,PEP,TSN,SJM,MDLZ,CPB,EL,STZ,TGT,TRGP,PSX,COP,MRO,SLB,OKE,HAL,CTRA,CVX,PXD,FANG,EOG,BKR,MPC,APA,OXY,WMB,VLO,XOM,EQT,CINF,PNC,WRB,V,NTRS,FDS,JKHY,PYPL,GPN,RJF,JPM,BEN,AXP,MCO,HIG,IVZ,COF,PFG,GS,TFC,RMD,TFX,MOH,A,OGN,STE,DVA,LLY,MTD,LH,PODD,JNJ,ZBH,INCY,GEHC,UHS,REGN,ALGN,HOLX,EW,DAL,RSG,CHRW,WAB,RTX,FDX,LHX,HII,IEX,LUV,NDSN,ODFL,ADP,PWR,FTV,JCI,CSGP,MAS,ITW,URI,TRMB,HPE,STX,FFIV,GEN,LRCX,AKAM,NXPI,QRVO,INTU,TDY,MSI,SNPS,PAYC,MSFT,KEYS,PANW,PTC,ON,NOW,IFF,NUE,MLM,NEM,SHW,MOS,AVY,EMN,PPG,PKG,BALL,AMCR,SEE,CF,LYB,FCX,CTVA,STLD,ALB,LIN,KIM,O,ESS,PLD,HST,PSA,VTR,BXP,SPG,REG,SBAC,CPT,AVB,UDR,CCI,MAA,PEAK,DLR,VICI,AMT,EXC,NRG,D,NEE,ETR,NI,SRE,AEP,PPL,PCG,PNW,AWK,AEE,PEG,CNP,FE,EIX,CMS,SO,LNT>"
     },
     "execution_count": 139,
     "metadata": {},
     "output_type": "execute_result"
    }
   ],
   "source": [
    "tickers"
   ],
   "metadata": {
    "collapsed": false
   }
  },
  {
   "cell_type": "code",
   "execution_count": 143,
   "outputs": [
    {
     "name": "stdout",
     "output_type": "stream",
     "text": [
      "[*********************100%***********************]  220 of 220 completed"
     ]
    },
    {
     "name": "stderr",
     "output_type": "stream",
     "text": [
      "\n",
      "1 Failed download:\n",
      "['BF.B']: Exception('%ticker%: No price data found, symbol may be delisted (1d 2020-01-01 -> 2023-01-01)')\n"
     ]
    },
    {
     "name": "stdout",
     "output_type": "stream",
     "text": [
      "\n"
     ]
    }
   ],
   "source": [
    "hist = tickers.history(start='2020-01-01', end='2023-01-01')"
   ],
   "metadata": {
    "collapsed": false
   }
  },
  {
   "cell_type": "code",
   "execution_count": 145,
   "outputs": [
    {
     "data": {
      "text/plain": "           Adj Close       Close                                                \n                BF.B           A         ADP        AEE        AEP       AKAM   \nDate                                                                            \n2020-01-02       NaN   83.948051  158.306824  69.281036  82.936996  87.639999  \\\n2020-01-03       NaN   82.600189  157.972244  69.308365  82.848267  87.239998   \n2020-01-06       NaN   82.844376  158.186005  69.372139  83.123352  87.550003   \n2020-01-07       NaN   83.098320  156.271286  69.627220  83.141106  90.199997   \n2020-01-08       NaN   83.918739  157.739868  69.508781  82.892647  91.400002   \n...              ...         ...         ...        ...        ...        ...   \n2022-12-23       NaN  148.481888  238.199707  88.182816  93.957169  83.160004   \n2022-12-27       NaN  148.800278  238.288681  88.921532  94.546303  83.500000   \n2022-12-28       NaN  147.347595  235.144852  88.035080  93.633148  83.500000   \n2022-12-29       NaN  150.332550  237.883331  88.655602  94.271378  84.699997   \n2022-12-30       NaN  149.121841  236.143356  87.581993  93.230568  84.300003   \n\n                                                           ...   Volume   \n                   ALB        ALGN       AMCR         AMT  ...      VTR   \nDate                                                       ...            \n2020-01-02   70.112602  283.679993   9.184127  210.972885  ...  2224500  \\\n2020-01-03   69.108368  280.440002   9.063167  211.074432  ...  2966100   \n2020-01-06   69.031128  285.880005   9.002688  211.019028  ...  2276200   \n2020-01-07   69.938812  283.059998   8.924931  206.522568  ...  1578200   \n2020-01-08   68.731789  286.000000   8.959489  208.313751  ...  2002200   \n...                ...         ...        ...         ...  ...      ...   \n2022-12-23  226.137054  203.669998  11.786204  207.630051  ...   938100   \n2022-12-27  213.383453  204.589996  11.805750  207.639877  ...  2346300   \n2022-12-28  213.263885  201.580002  11.639610  206.852280  ...  1502100   \n2022-12-29  216.681442  212.139999  11.747112  212.405075  ...  1578200   \n2022-12-30  216.073654  210.899994  11.639610  208.585052  ...  1450800   \n\n                                                                                \n                  VZ      WAB       WBA       WBD       WMB      WRB     WYNN   \nDate                                                                            \n2020-01-02  11447900  1717800   5700500   3249300   6970000  1310250  3006500  \\\n2020-01-03  13263200   968700   4892300   3599600   7542700   657600  1760500   \n2020-01-06  15094500  1233500   6003300   2416900  12104200   975750  1357900   \n2020-01-07  14293100  1073900   4365700   3102000   8952900  1029300  1722100   \n2020-01-08  15926500  1536000  17431800   3674100   7396400   861750  1176200   \n...              ...      ...       ...       ...       ...      ...      ...   \n2022-12-23  16918300   390000   3476700  19035100   5307500   642700  1134800   \n2022-12-27  25315900   484500   3940100  22207700   4938100   905900  4026500   \n2022-12-28  21793200   349800   4008900  22506100   3688200   553700  2131500   \n2022-12-29  17347000   366700   5251500  29740700   3551500   568300  1431100   \n2022-12-30  44007200   433400   5406200  22808700   3479200   924000  1614700   \n\n                               \n                 XOM      ZBH  \nDate                           \n2020-01-02  12456400  1083972  \n2020-01-03  17386900   992405  \n2020-01-06  20081900   972423  \n2020-01-07  17387700   934519  \n2020-01-08  15137700   936064  \n...              ...      ...  \n2022-12-23  11539400   789800  \n2022-12-27  11962100   755600  \n2022-12-28  10702100   750100  \n2022-12-29  10534000   686600  \n2022-12-30  11799600   785200  \n\n[756 rows x 1539 columns]",
      "text/html": "<div>\n<style scoped>\n    .dataframe tbody tr th:only-of-type {\n        vertical-align: middle;\n    }\n\n    .dataframe tbody tr th {\n        vertical-align: top;\n    }\n\n    .dataframe thead tr th {\n        text-align: left;\n    }\n\n    .dataframe thead tr:last-of-type th {\n        text-align: right;\n    }\n</style>\n<table border=\"1\" class=\"dataframe\">\n  <thead>\n    <tr>\n      <th></th>\n      <th>Adj Close</th>\n      <th colspan=\"9\" halign=\"left\">Close</th>\n      <th>...</th>\n      <th colspan=\"10\" halign=\"left\">Volume</th>\n    </tr>\n    <tr>\n      <th></th>\n      <th>BF.B</th>\n      <th>A</th>\n      <th>ADP</th>\n      <th>AEE</th>\n      <th>AEP</th>\n      <th>AKAM</th>\n      <th>ALB</th>\n      <th>ALGN</th>\n      <th>AMCR</th>\n      <th>AMT</th>\n      <th>...</th>\n      <th>VTR</th>\n      <th>VZ</th>\n      <th>WAB</th>\n      <th>WBA</th>\n      <th>WBD</th>\n      <th>WMB</th>\n      <th>WRB</th>\n      <th>WYNN</th>\n      <th>XOM</th>\n      <th>ZBH</th>\n    </tr>\n    <tr>\n      <th>Date</th>\n      <th></th>\n      <th></th>\n      <th></th>\n      <th></th>\n      <th></th>\n      <th></th>\n      <th></th>\n      <th></th>\n      <th></th>\n      <th></th>\n      <th></th>\n      <th></th>\n      <th></th>\n      <th></th>\n      <th></th>\n      <th></th>\n      <th></th>\n      <th></th>\n      <th></th>\n      <th></th>\n      <th></th>\n    </tr>\n  </thead>\n  <tbody>\n    <tr>\n      <th>2020-01-02</th>\n      <td>NaN</td>\n      <td>83.948051</td>\n      <td>158.306824</td>\n      <td>69.281036</td>\n      <td>82.936996</td>\n      <td>87.639999</td>\n      <td>70.112602</td>\n      <td>283.679993</td>\n      <td>9.184127</td>\n      <td>210.972885</td>\n      <td>...</td>\n      <td>2224500</td>\n      <td>11447900</td>\n      <td>1717800</td>\n      <td>5700500</td>\n      <td>3249300</td>\n      <td>6970000</td>\n      <td>1310250</td>\n      <td>3006500</td>\n      <td>12456400</td>\n      <td>1083972</td>\n    </tr>\n    <tr>\n      <th>2020-01-03</th>\n      <td>NaN</td>\n      <td>82.600189</td>\n      <td>157.972244</td>\n      <td>69.308365</td>\n      <td>82.848267</td>\n      <td>87.239998</td>\n      <td>69.108368</td>\n      <td>280.440002</td>\n      <td>9.063167</td>\n      <td>211.074432</td>\n      <td>...</td>\n      <td>2966100</td>\n      <td>13263200</td>\n      <td>968700</td>\n      <td>4892300</td>\n      <td>3599600</td>\n      <td>7542700</td>\n      <td>657600</td>\n      <td>1760500</td>\n      <td>17386900</td>\n      <td>992405</td>\n    </tr>\n    <tr>\n      <th>2020-01-06</th>\n      <td>NaN</td>\n      <td>82.844376</td>\n      <td>158.186005</td>\n      <td>69.372139</td>\n      <td>83.123352</td>\n      <td>87.550003</td>\n      <td>69.031128</td>\n      <td>285.880005</td>\n      <td>9.002688</td>\n      <td>211.019028</td>\n      <td>...</td>\n      <td>2276200</td>\n      <td>15094500</td>\n      <td>1233500</td>\n      <td>6003300</td>\n      <td>2416900</td>\n      <td>12104200</td>\n      <td>975750</td>\n      <td>1357900</td>\n      <td>20081900</td>\n      <td>972423</td>\n    </tr>\n    <tr>\n      <th>2020-01-07</th>\n      <td>NaN</td>\n      <td>83.098320</td>\n      <td>156.271286</td>\n      <td>69.627220</td>\n      <td>83.141106</td>\n      <td>90.199997</td>\n      <td>69.938812</td>\n      <td>283.059998</td>\n      <td>8.924931</td>\n      <td>206.522568</td>\n      <td>...</td>\n      <td>1578200</td>\n      <td>14293100</td>\n      <td>1073900</td>\n      <td>4365700</td>\n      <td>3102000</td>\n      <td>8952900</td>\n      <td>1029300</td>\n      <td>1722100</td>\n      <td>17387700</td>\n      <td>934519</td>\n    </tr>\n    <tr>\n      <th>2020-01-08</th>\n      <td>NaN</td>\n      <td>83.918739</td>\n      <td>157.739868</td>\n      <td>69.508781</td>\n      <td>82.892647</td>\n      <td>91.400002</td>\n      <td>68.731789</td>\n      <td>286.000000</td>\n      <td>8.959489</td>\n      <td>208.313751</td>\n      <td>...</td>\n      <td>2002200</td>\n      <td>15926500</td>\n      <td>1536000</td>\n      <td>17431800</td>\n      <td>3674100</td>\n      <td>7396400</td>\n      <td>861750</td>\n      <td>1176200</td>\n      <td>15137700</td>\n      <td>936064</td>\n    </tr>\n    <tr>\n      <th>...</th>\n      <td>...</td>\n      <td>...</td>\n      <td>...</td>\n      <td>...</td>\n      <td>...</td>\n      <td>...</td>\n      <td>...</td>\n      <td>...</td>\n      <td>...</td>\n      <td>...</td>\n      <td>...</td>\n      <td>...</td>\n      <td>...</td>\n      <td>...</td>\n      <td>...</td>\n      <td>...</td>\n      <td>...</td>\n      <td>...</td>\n      <td>...</td>\n      <td>...</td>\n      <td>...</td>\n    </tr>\n    <tr>\n      <th>2022-12-23</th>\n      <td>NaN</td>\n      <td>148.481888</td>\n      <td>238.199707</td>\n      <td>88.182816</td>\n      <td>93.957169</td>\n      <td>83.160004</td>\n      <td>226.137054</td>\n      <td>203.669998</td>\n      <td>11.786204</td>\n      <td>207.630051</td>\n      <td>...</td>\n      <td>938100</td>\n      <td>16918300</td>\n      <td>390000</td>\n      <td>3476700</td>\n      <td>19035100</td>\n      <td>5307500</td>\n      <td>642700</td>\n      <td>1134800</td>\n      <td>11539400</td>\n      <td>789800</td>\n    </tr>\n    <tr>\n      <th>2022-12-27</th>\n      <td>NaN</td>\n      <td>148.800278</td>\n      <td>238.288681</td>\n      <td>88.921532</td>\n      <td>94.546303</td>\n      <td>83.500000</td>\n      <td>213.383453</td>\n      <td>204.589996</td>\n      <td>11.805750</td>\n      <td>207.639877</td>\n      <td>...</td>\n      <td>2346300</td>\n      <td>25315900</td>\n      <td>484500</td>\n      <td>3940100</td>\n      <td>22207700</td>\n      <td>4938100</td>\n      <td>905900</td>\n      <td>4026500</td>\n      <td>11962100</td>\n      <td>755600</td>\n    </tr>\n    <tr>\n      <th>2022-12-28</th>\n      <td>NaN</td>\n      <td>147.347595</td>\n      <td>235.144852</td>\n      <td>88.035080</td>\n      <td>93.633148</td>\n      <td>83.500000</td>\n      <td>213.263885</td>\n      <td>201.580002</td>\n      <td>11.639610</td>\n      <td>206.852280</td>\n      <td>...</td>\n      <td>1502100</td>\n      <td>21793200</td>\n      <td>349800</td>\n      <td>4008900</td>\n      <td>22506100</td>\n      <td>3688200</td>\n      <td>553700</td>\n      <td>2131500</td>\n      <td>10702100</td>\n      <td>750100</td>\n    </tr>\n    <tr>\n      <th>2022-12-29</th>\n      <td>NaN</td>\n      <td>150.332550</td>\n      <td>237.883331</td>\n      <td>88.655602</td>\n      <td>94.271378</td>\n      <td>84.699997</td>\n      <td>216.681442</td>\n      <td>212.139999</td>\n      <td>11.747112</td>\n      <td>212.405075</td>\n      <td>...</td>\n      <td>1578200</td>\n      <td>17347000</td>\n      <td>366700</td>\n      <td>5251500</td>\n      <td>29740700</td>\n      <td>3551500</td>\n      <td>568300</td>\n      <td>1431100</td>\n      <td>10534000</td>\n      <td>686600</td>\n    </tr>\n    <tr>\n      <th>2022-12-30</th>\n      <td>NaN</td>\n      <td>149.121841</td>\n      <td>236.143356</td>\n      <td>87.581993</td>\n      <td>93.230568</td>\n      <td>84.300003</td>\n      <td>216.073654</td>\n      <td>210.899994</td>\n      <td>11.639610</td>\n      <td>208.585052</td>\n      <td>...</td>\n      <td>1450800</td>\n      <td>44007200</td>\n      <td>433400</td>\n      <td>5406200</td>\n      <td>22808700</td>\n      <td>3479200</td>\n      <td>924000</td>\n      <td>1614700</td>\n      <td>11799600</td>\n      <td>785200</td>\n    </tr>\n  </tbody>\n</table>\n<p>756 rows × 1539 columns</p>\n</div>"
     },
     "execution_count": 145,
     "metadata": {},
     "output_type": "execute_result"
    }
   ],
   "source": [
    "hist"
   ],
   "metadata": {
    "collapsed": false
   }
  },
  {
   "cell_type": "code",
   "execution_count": 166,
   "outputs": [
    {
     "data": {
      "text/plain": "                 Adj Close       Close  Dividends        High         Low   \nDate                                                                        \n2020-01-02 A           NaN   83.948051        0.0   84.338736   83.215520  \\\n           ADP         NaN  158.306824        0.0  159.868321  157.265811   \n           AEE         NaN   69.281036        0.0   70.237575   69.016848   \n           AEP         NaN   82.936996        0.0   83.913142   82.511045   \n           AKAM        NaN   87.639999        0.0   87.830002   86.529999   \n...                    ...         ...        ...         ...         ...   \n2022-12-30 WMB         NaN   31.948896        0.0   32.075136   31.706124   \n           WRB         NaN   71.828133        0.0   72.481389   71.174884   \n           WYNN        NaN   82.283043        0.0   82.472615   79.918413   \n           XOM         NaN  108.516106        0.0  108.712868  106.853436   \n           ZBH         NaN  127.045898        0.0  127.275083  125.760492   \n\n                       Open  Stock Splits      Volume  \nDate                                                   \n2020-01-02 A      83.899221           0.0   1410500.0  \n           ADP   159.831149           0.0   1364600.0  \n           AEE    70.091820           0.0   1460900.0  \n           AEP    83.859900           0.0   1779700.0  \n           AKAM   86.839996           0.0   1079900.0  \n...                     ...           ...         ...  \n2022-12-30 WMB    31.900339           0.0   3479200.0  \n           WRB    72.194353           0.0    924000.0  \n           WYNN   79.988254           0.0   1614700.0  \n           XOM   106.853436           0.0  11799600.0  \n           ZBH   126.697147           0.0    785200.0  \n\n[166320 rows x 8 columns]",
      "text/html": "<div>\n<style scoped>\n    .dataframe tbody tr th:only-of-type {\n        vertical-align: middle;\n    }\n\n    .dataframe tbody tr th {\n        vertical-align: top;\n    }\n\n    .dataframe thead th {\n        text-align: right;\n    }\n</style>\n<table border=\"1\" class=\"dataframe\">\n  <thead>\n    <tr style=\"text-align: right;\">\n      <th></th>\n      <th></th>\n      <th>Adj Close</th>\n      <th>Close</th>\n      <th>Dividends</th>\n      <th>High</th>\n      <th>Low</th>\n      <th>Open</th>\n      <th>Stock Splits</th>\n      <th>Volume</th>\n    </tr>\n    <tr>\n      <th>Date</th>\n      <th></th>\n      <th></th>\n      <th></th>\n      <th></th>\n      <th></th>\n      <th></th>\n      <th></th>\n      <th></th>\n      <th></th>\n    </tr>\n  </thead>\n  <tbody>\n    <tr>\n      <th rowspan=\"5\" valign=\"top\">2020-01-02</th>\n      <th>A</th>\n      <td>NaN</td>\n      <td>83.948051</td>\n      <td>0.0</td>\n      <td>84.338736</td>\n      <td>83.215520</td>\n      <td>83.899221</td>\n      <td>0.0</td>\n      <td>1410500.0</td>\n    </tr>\n    <tr>\n      <th>ADP</th>\n      <td>NaN</td>\n      <td>158.306824</td>\n      <td>0.0</td>\n      <td>159.868321</td>\n      <td>157.265811</td>\n      <td>159.831149</td>\n      <td>0.0</td>\n      <td>1364600.0</td>\n    </tr>\n    <tr>\n      <th>AEE</th>\n      <td>NaN</td>\n      <td>69.281036</td>\n      <td>0.0</td>\n      <td>70.237575</td>\n      <td>69.016848</td>\n      <td>70.091820</td>\n      <td>0.0</td>\n      <td>1460900.0</td>\n    </tr>\n    <tr>\n      <th>AEP</th>\n      <td>NaN</td>\n      <td>82.936996</td>\n      <td>0.0</td>\n      <td>83.913142</td>\n      <td>82.511045</td>\n      <td>83.859900</td>\n      <td>0.0</td>\n      <td>1779700.0</td>\n    </tr>\n    <tr>\n      <th>AKAM</th>\n      <td>NaN</td>\n      <td>87.639999</td>\n      <td>0.0</td>\n      <td>87.830002</td>\n      <td>86.529999</td>\n      <td>86.839996</td>\n      <td>0.0</td>\n      <td>1079900.0</td>\n    </tr>\n    <tr>\n      <th>...</th>\n      <th>...</th>\n      <td>...</td>\n      <td>...</td>\n      <td>...</td>\n      <td>...</td>\n      <td>...</td>\n      <td>...</td>\n      <td>...</td>\n      <td>...</td>\n    </tr>\n    <tr>\n      <th rowspan=\"5\" valign=\"top\">2022-12-30</th>\n      <th>WMB</th>\n      <td>NaN</td>\n      <td>31.948896</td>\n      <td>0.0</td>\n      <td>32.075136</td>\n      <td>31.706124</td>\n      <td>31.900339</td>\n      <td>0.0</td>\n      <td>3479200.0</td>\n    </tr>\n    <tr>\n      <th>WRB</th>\n      <td>NaN</td>\n      <td>71.828133</td>\n      <td>0.0</td>\n      <td>72.481389</td>\n      <td>71.174884</td>\n      <td>72.194353</td>\n      <td>0.0</td>\n      <td>924000.0</td>\n    </tr>\n    <tr>\n      <th>WYNN</th>\n      <td>NaN</td>\n      <td>82.283043</td>\n      <td>0.0</td>\n      <td>82.472615</td>\n      <td>79.918413</td>\n      <td>79.988254</td>\n      <td>0.0</td>\n      <td>1614700.0</td>\n    </tr>\n    <tr>\n      <th>XOM</th>\n      <td>NaN</td>\n      <td>108.516106</td>\n      <td>0.0</td>\n      <td>108.712868</td>\n      <td>106.853436</td>\n      <td>106.853436</td>\n      <td>0.0</td>\n      <td>11799600.0</td>\n    </tr>\n    <tr>\n      <th>ZBH</th>\n      <td>NaN</td>\n      <td>127.045898</td>\n      <td>0.0</td>\n      <td>127.275083</td>\n      <td>125.760492</td>\n      <td>126.697147</td>\n      <td>0.0</td>\n      <td>785200.0</td>\n    </tr>\n  </tbody>\n</table>\n<p>166320 rows × 8 columns</p>\n</div>"
     },
     "execution_count": 166,
     "metadata": {},
     "output_type": "execute_result"
    }
   ],
   "source": [
    "hist.stack(dropna=False)"
   ],
   "metadata": {
    "collapsed": false
   }
  },
  {
   "cell_type": "code",
   "execution_count": 190,
   "outputs": [],
   "source": [
    "tech_data = hist.stack(dropna=False)[['Close', 'Volume']]\n",
    "tech_data.index.names=['Date', 'Symbol']"
   ],
   "metadata": {
    "collapsed": false
   }
  },
  {
   "cell_type": "code",
   "execution_count": 191,
   "outputs": [
    {
     "data": {
      "text/plain": "220"
     },
     "execution_count": 191,
     "metadata": {},
     "output_type": "execute_result"
    }
   ],
   "source": [
    "tech_data.index.get_level_values(1).nunique()"
   ],
   "metadata": {
    "collapsed": false
   }
  },
  {
   "cell_type": "code",
   "execution_count": 192,
   "outputs": [
    {
     "data": {
      "text/plain": "                        Close      Volume\nDate       Symbol                        \n2020-01-02 A        83.948051   1410500.0\n           ADP     158.306824   1364600.0\n           AEE      69.281036   1460900.0\n           AEP      82.936996   1779700.0\n           AKAM     87.639999   1079900.0\n...                       ...         ...\n2022-12-30 WMB      31.948896   3479200.0\n           WRB      71.828133    924000.0\n           WYNN     82.283043   1614700.0\n           XOM     108.516106  11799600.0\n           ZBH     127.045898    785200.0\n\n[166320 rows x 2 columns]",
      "text/html": "<div>\n<style scoped>\n    .dataframe tbody tr th:only-of-type {\n        vertical-align: middle;\n    }\n\n    .dataframe tbody tr th {\n        vertical-align: top;\n    }\n\n    .dataframe thead th {\n        text-align: right;\n    }\n</style>\n<table border=\"1\" class=\"dataframe\">\n  <thead>\n    <tr style=\"text-align: right;\">\n      <th></th>\n      <th></th>\n      <th>Close</th>\n      <th>Volume</th>\n    </tr>\n    <tr>\n      <th>Date</th>\n      <th>Symbol</th>\n      <th></th>\n      <th></th>\n    </tr>\n  </thead>\n  <tbody>\n    <tr>\n      <th rowspan=\"5\" valign=\"top\">2020-01-02</th>\n      <th>A</th>\n      <td>83.948051</td>\n      <td>1410500.0</td>\n    </tr>\n    <tr>\n      <th>ADP</th>\n      <td>158.306824</td>\n      <td>1364600.0</td>\n    </tr>\n    <tr>\n      <th>AEE</th>\n      <td>69.281036</td>\n      <td>1460900.0</td>\n    </tr>\n    <tr>\n      <th>AEP</th>\n      <td>82.936996</td>\n      <td>1779700.0</td>\n    </tr>\n    <tr>\n      <th>AKAM</th>\n      <td>87.639999</td>\n      <td>1079900.0</td>\n    </tr>\n    <tr>\n      <th>...</th>\n      <th>...</th>\n      <td>...</td>\n      <td>...</td>\n    </tr>\n    <tr>\n      <th rowspan=\"5\" valign=\"top\">2022-12-30</th>\n      <th>WMB</th>\n      <td>31.948896</td>\n      <td>3479200.0</td>\n    </tr>\n    <tr>\n      <th>WRB</th>\n      <td>71.828133</td>\n      <td>924000.0</td>\n    </tr>\n    <tr>\n      <th>WYNN</th>\n      <td>82.283043</td>\n      <td>1614700.0</td>\n    </tr>\n    <tr>\n      <th>XOM</th>\n      <td>108.516106</td>\n      <td>11799600.0</td>\n    </tr>\n    <tr>\n      <th>ZBH</th>\n      <td>127.045898</td>\n      <td>785200.0</td>\n    </tr>\n  </tbody>\n</table>\n<p>166320 rows × 2 columns</p>\n</div>"
     },
     "execution_count": 192,
     "metadata": {},
     "output_type": "execute_result"
    }
   ],
   "source": [
    "tech_data"
   ],
   "metadata": {
    "collapsed": false
   }
  },
  {
   "cell_type": "code",
   "execution_count": 193,
   "outputs": [
    {
     "data": {
      "text/plain": "220"
     },
     "execution_count": 193,
     "metadata": {},
     "output_type": "execute_result"
    }
   ],
   "source": [
    "tech_data.index.get_level_values(1).nunique()"
   ],
   "metadata": {
    "collapsed": false
   }
  },
  {
   "cell_type": "code",
   "execution_count": 194,
   "outputs": [
    {
     "data": {
      "text/plain": "Symbol\nBF.B    756\nGEHC    745\nOGN     344\ndtype: int64"
     },
     "execution_count": 194,
     "metadata": {},
     "output_type": "execute_result"
    }
   ],
   "source": [
    "tech_data.groupby(level=1).apply(lambda g:g[g.Close.isnull() | g.Volume.isnull()].shape[0]).loc[lambda x:x>0]"
   ],
   "metadata": {
    "collapsed": false
   }
  },
  {
   "cell_type": "code",
   "execution_count": 238,
   "outputs": [],
   "source": [
    "# drop the stocks missing many data\n",
    "deleted_symbols = ['BF.B', 'GEHC', 'OGN']\n",
    "str_deleted_symbols = \"','\".join(['BF.B', 'GEHC', 'OGN'])\n",
    "remaining_symbols = [symbol for symbol in symbols if symbol not in deleted_symbols]\n",
    "clean_tech_data = tech_data.query(f\"Symbol not in ['{str_deleted_symbols}']\")"
   ],
   "metadata": {
    "collapsed": false
   }
  },
  {
   "cell_type": "code",
   "execution_count": 307,
   "outputs": [
    {
     "data": {
      "text/plain": "217"
     },
     "execution_count": 307,
     "metadata": {},
     "output_type": "execute_result"
    }
   ],
   "source": [
    "clean_tech_data.index.get_level_values('Symbol').nunique()"
   ],
   "metadata": {
    "collapsed": false
   }
  },
  {
   "cell_type": "code",
   "execution_count": 327,
   "outputs": [
    {
     "data": {
      "text/plain": "0"
     },
     "execution_count": 327,
     "metadata": {},
     "output_type": "execute_result"
    }
   ],
   "source": [
    "clean_tech_data.isnull().values.sum()"
   ],
   "metadata": {
    "collapsed": false
   }
  },
  {
   "cell_type": "code",
   "execution_count": 223,
   "outputs": [
    {
     "data": {
      "text/plain": "                        Close      Volume\nDate       Symbol                        \n2020-01-02 A        83.948051   1410500.0\n           ADP     158.306824   1364600.0\n           AEE      69.281036   1460900.0\n           AEP      82.936996   1779700.0\n           AKAM     87.639999   1079900.0\n...                       ...         ...\n2022-12-30 WMB      31.948896   3479200.0\n           WRB      71.828133    924000.0\n           WYNN     82.283043   1614700.0\n           XOM     108.516106  11799600.0\n           ZBH     127.045898    785200.0\n\n[164052 rows x 2 columns]",
      "text/html": "<div>\n<style scoped>\n    .dataframe tbody tr th:only-of-type {\n        vertical-align: middle;\n    }\n\n    .dataframe tbody tr th {\n        vertical-align: top;\n    }\n\n    .dataframe thead th {\n        text-align: right;\n    }\n</style>\n<table border=\"1\" class=\"dataframe\">\n  <thead>\n    <tr style=\"text-align: right;\">\n      <th></th>\n      <th></th>\n      <th>Close</th>\n      <th>Volume</th>\n    </tr>\n    <tr>\n      <th>Date</th>\n      <th>Symbol</th>\n      <th></th>\n      <th></th>\n    </tr>\n  </thead>\n  <tbody>\n    <tr>\n      <th rowspan=\"5\" valign=\"top\">2020-01-02</th>\n      <th>A</th>\n      <td>83.948051</td>\n      <td>1410500.0</td>\n    </tr>\n    <tr>\n      <th>ADP</th>\n      <td>158.306824</td>\n      <td>1364600.0</td>\n    </tr>\n    <tr>\n      <th>AEE</th>\n      <td>69.281036</td>\n      <td>1460900.0</td>\n    </tr>\n    <tr>\n      <th>AEP</th>\n      <td>82.936996</td>\n      <td>1779700.0</td>\n    </tr>\n    <tr>\n      <th>AKAM</th>\n      <td>87.639999</td>\n      <td>1079900.0</td>\n    </tr>\n    <tr>\n      <th>...</th>\n      <th>...</th>\n      <td>...</td>\n      <td>...</td>\n    </tr>\n    <tr>\n      <th rowspan=\"5\" valign=\"top\">2022-12-30</th>\n      <th>WMB</th>\n      <td>31.948896</td>\n      <td>3479200.0</td>\n    </tr>\n    <tr>\n      <th>WRB</th>\n      <td>71.828133</td>\n      <td>924000.0</td>\n    </tr>\n    <tr>\n      <th>WYNN</th>\n      <td>82.283043</td>\n      <td>1614700.0</td>\n    </tr>\n    <tr>\n      <th>XOM</th>\n      <td>108.516106</td>\n      <td>11799600.0</td>\n    </tr>\n    <tr>\n      <th>ZBH</th>\n      <td>127.045898</td>\n      <td>785200.0</td>\n    </tr>\n  </tbody>\n</table>\n<p>164052 rows × 2 columns</p>\n</div>"
     },
     "execution_count": 223,
     "metadata": {},
     "output_type": "execute_result"
    }
   ],
   "source": [
    "clean_tech_data"
   ],
   "metadata": {
    "collapsed": false
   }
  },
  {
   "cell_type": "code",
   "execution_count": 293,
   "outputs": [
    {
     "name": "stdout",
     "output_type": "stream",
     "text": [
      "AVB\n",
      "UDR\n",
      "SRE\n"
     ]
    }
   ],
   "source": [
    "# fundamental data\n",
    "def get_fundamental(symbol):\n",
    "    ticker=tickers.tickers[symbol]\n",
    "    fdata = ticker.quarterly_income_stmt.loc[['Total Revenue', 'Diluted EPS']]\n",
    "    tuples = zip([symbol]*len(fdata.columns), fdata.columns)\n",
    "    fdata.columns = pd.MultiIndex.from_tuples(tuples, name=['Symbol', 'Date'])\n",
    "    return fdata\n",
    "# for symbol in symbols:\n",
    "fundamental_data = []\n",
    "for symbol in remaining_symbols:\n",
    "    try:\n",
    "        fdata = get_fundamental(symbol)\n",
    "        fundamental_data.append(fdata)\n",
    "    except:\n",
    "        print(symbol)\n",
    "fundamental_data = pd.concat(fundamental_data, axis=1)"
   ],
   "metadata": {
    "collapsed": false
   }
  },
  {
   "cell_type": "code",
   "execution_count": 294,
   "outputs": [],
   "source": [
    "#fetch unsuccessful symbols\n",
    "#maunual refetch unsucceful symbols' fundamental data due to network issue\n",
    "tickers = yf.Tickers(' '.join(symbols)) # tickers objects need be initialized again to re-fetch\n",
    "missing_symbols = ['AVB', 'UDR', 'SRE']\n",
    "missing_fdata = []\n",
    "for symbol in missing_symbols:\n",
    "    fdata = get_fundamental(symbol)\n",
    "    missing_fdata.append(fdata)\n",
    "missing_fdata = pd.concat(missing_fdata, axis=1)"
   ],
   "metadata": {
    "collapsed": false
   }
  },
  {
   "cell_type": "code",
   "execution_count": 302,
   "outputs": [],
   "source": [
    "complete_fundamental_data = pd.concat([fundamental_data, missing_fdata], axis=1).T"
   ],
   "metadata": {
    "collapsed": false
   }
  },
  {
   "cell_type": "code",
   "execution_count": 303,
   "outputs": [
    {
     "data": {
      "text/plain": "217"
     },
     "execution_count": 303,
     "metadata": {},
     "output_type": "execute_result"
    }
   ],
   "source": [
    "complete_fundamental_data.index.get_level_values(0).nunique()"
   ],
   "metadata": {
    "collapsed": false
   }
  },
  {
   "cell_type": "code",
   "execution_count": 325,
   "outputs": [
    {
     "data": {
      "text/plain": "21"
     },
     "execution_count": 325,
     "metadata": {},
     "output_type": "execute_result"
    }
   ],
   "source": [
    "complete_fundamental_data.isnull().values.sum()"
   ],
   "metadata": {
    "collapsed": false
   }
  },
  {
   "cell_type": "code",
   "execution_count": 332,
   "outputs": [
    {
     "data": {
      "text/plain": "Total Revenue     1\nDiluted EPS      20\ndtype: int64"
     },
     "execution_count": 332,
     "metadata": {},
     "output_type": "execute_result"
    }
   ],
   "source": [
    "complete_fundamental_data.isnull().sum()"
   ],
   "metadata": {
    "collapsed": false
   }
  },
  {
   "cell_type": "code",
   "execution_count": 330,
   "outputs": [
    {
     "data": {
      "text/plain": "Symbol  Date      \nPARA    2022-12-31    1\nWBD     2022-12-31    1\nNKE     2023-05-31    1\nMKC     2022-11-30    1\nTRGP    2022-12-31    1\nOKE     2022-12-31    1\nWMB     2022-12-31    1\nPYPL    2022-12-31    1\nPFG     2023-06-30    2\n        2022-12-31    1\nWAB     2022-12-31    1\nLHX     2022-12-31    1\nLYB     2022-12-31    1\nNRG     2022-12-31    1\nNI      2022-12-31    1\nAEP     2022-12-31    1\nPCG     2022-12-31    1\nCNP     2022-12-31    1\nFE      2022-12-31    1\nEIX     2022-12-31    1\ndtype: int64"
     },
     "execution_count": 330,
     "metadata": {},
     "output_type": "execute_result"
    }
   ],
   "source": [
    "complete_fundamental_data.isnull().sum(axis=1).loc[lambda x:x>0]"
   ],
   "metadata": {
    "collapsed": false
   }
  },
  {
   "cell_type": "code",
   "execution_count": 333,
   "outputs": [
    {
     "data": {
      "text/plain": "                                                     2023-06-30    2023-03-31   \nTax Effect Of Unusual Items                                 NaN           0.0  \\\nTax Rate For Calcs                                          NaN      0.367059   \nNet Income From Continuing Operation Net Minori...          NaN  -140100000.0   \nNormalized Income                                           NaN  -140100000.0   \nNet Income From Continuing And Discontinued Ope...          NaN  -140100000.0   \nTotal Expenses                                              NaN  3031500000.0   \nDiluted Average Shares                              242000000.0   243400000.0   \nBasic Average Shares                                242000000.0   243400000.0   \nDiluted EPS                                                 NaN         -0.58   \nBasic EPS                                                   NaN         -0.58   \nDiluted NI Availto Com Stockholders                         NaN  -140100000.0   \nNet Income Common Stockholders                              NaN  -140100000.0   \nNet Income                                                  NaN  -140100000.0   \nMinority Interests                                          NaN    -5600000.0   \nNet Income Including Noncontrolling Interests               NaN  -134500000.0   \nNet Income Continuous Operations                            NaN  -134500000.0   \nTax Provision                                               NaN   -78000000.0   \nPretax Income                                               NaN  -212500000.0   \nOther Operating Expenses                                    NaN  1242900000.0   \nTotal Revenue                                               NaN  2819000000.0   \nOperating Revenue                                           NaN  2819000000.0   \n\n                                                      2022-12-31   \nTax Effect Of Unusual Items                                  0.0  \\\nTax Rate For Calcs                                           0.4   \nNet Income From Continuing Operation Net Minori...    -9500000.0   \nNormalized Income                                     -9500000.0   \nNet Income From Continuing And Discontinued Ope...    -9500000.0   \nTotal Expenses                                      3117100000.0   \nDiluted Average Shares                                       NaN   \nBasic Average Shares                                         NaN   \nDiluted EPS                                                  NaN   \nBasic EPS                                                    NaN   \nDiluted NI Availto Com Stockholders                   -9500000.0   \nNet Income Common Stockholders                        -9500000.0   \nNet Income                                            -9500000.0   \nMinority Interests                                   -25000000.0   \nNet Income Including Noncontrolling Interests         15500000.0   \nNet Income Continuous Operations                      15500000.0   \nTax Provision                                        -10600000.0   \nPretax Income                                          4900000.0   \nOther Operating Expenses                            1196900000.0   \nTotal Revenue                                       3122000000.0   \nOperating Revenue                                   3122000000.0   \n\n                                                      2022-09-30    2022-06-30  \nTax Effect Of Unusual Items                                  0.0           0.0  \nTax Rate For Calcs                                           0.2          0.21  \nNet Income From Continuing Operation Net Minori...  1385500000.0  3059400000.0  \nNormalized Income                                   1385500000.0  3059400000.0  \nNet Income From Continuing And Discontinued Ope...  1385500000.0  3059400000.0  \nTotal Expenses                                      2870800000.0  2761600000.0  \nDiluted Average Shares                               251900000.0   256231156.0  \nBasic Average Shares                                 248000000.0   252634187.0  \nDiluted EPS                                                  5.5         11.94  \nBasic EPS                                                   5.59         12.11  \nDiluted NI Availto Com Stockholders                 1385500000.0  3059400000.0  \nNet Income Common Stockholders                      1385500000.0  3059400000.0  \nNet Income                                          1385500000.0  3059400000.0  \nMinority Interests                                     4100000.0   -15200000.0  \nNet Income Including Noncontrolling Interests       1381400000.0  3074600000.0  \nNet Income Continuous Operations                    1381400000.0  3074600000.0  \nTax Provision                                        348700000.0   822500000.0  \nPretax Income                                       1730100000.0  3897100000.0  \nOther Operating Expenses                            1111500000.0  1458500000.0  \nTotal Revenue                                       4600900000.0  6658700000.0  \nOperating Revenue                                   4600900000.0  6658700000.0  ",
      "text/html": "<div>\n<style scoped>\n    .dataframe tbody tr th:only-of-type {\n        vertical-align: middle;\n    }\n\n    .dataframe tbody tr th {\n        vertical-align: top;\n    }\n\n    .dataframe thead th {\n        text-align: right;\n    }\n</style>\n<table border=\"1\" class=\"dataframe\">\n  <thead>\n    <tr style=\"text-align: right;\">\n      <th></th>\n      <th>2023-06-30</th>\n      <th>2023-03-31</th>\n      <th>2022-12-31</th>\n      <th>2022-09-30</th>\n      <th>2022-06-30</th>\n    </tr>\n  </thead>\n  <tbody>\n    <tr>\n      <th>Tax Effect Of Unusual Items</th>\n      <td>NaN</td>\n      <td>0.0</td>\n      <td>0.0</td>\n      <td>0.0</td>\n      <td>0.0</td>\n    </tr>\n    <tr>\n      <th>Tax Rate For Calcs</th>\n      <td>NaN</td>\n      <td>0.367059</td>\n      <td>0.4</td>\n      <td>0.2</td>\n      <td>0.21</td>\n    </tr>\n    <tr>\n      <th>Net Income From Continuing Operation Net Minority Interest</th>\n      <td>NaN</td>\n      <td>-140100000.0</td>\n      <td>-9500000.0</td>\n      <td>1385500000.0</td>\n      <td>3059400000.0</td>\n    </tr>\n    <tr>\n      <th>Normalized Income</th>\n      <td>NaN</td>\n      <td>-140100000.0</td>\n      <td>-9500000.0</td>\n      <td>1385500000.0</td>\n      <td>3059400000.0</td>\n    </tr>\n    <tr>\n      <th>Net Income From Continuing And Discontinued Operation</th>\n      <td>NaN</td>\n      <td>-140100000.0</td>\n      <td>-9500000.0</td>\n      <td>1385500000.0</td>\n      <td>3059400000.0</td>\n    </tr>\n    <tr>\n      <th>Total Expenses</th>\n      <td>NaN</td>\n      <td>3031500000.0</td>\n      <td>3117100000.0</td>\n      <td>2870800000.0</td>\n      <td>2761600000.0</td>\n    </tr>\n    <tr>\n      <th>Diluted Average Shares</th>\n      <td>242000000.0</td>\n      <td>243400000.0</td>\n      <td>NaN</td>\n      <td>251900000.0</td>\n      <td>256231156.0</td>\n    </tr>\n    <tr>\n      <th>Basic Average Shares</th>\n      <td>242000000.0</td>\n      <td>243400000.0</td>\n      <td>NaN</td>\n      <td>248000000.0</td>\n      <td>252634187.0</td>\n    </tr>\n    <tr>\n      <th>Diluted EPS</th>\n      <td>NaN</td>\n      <td>-0.58</td>\n      <td>NaN</td>\n      <td>5.5</td>\n      <td>11.94</td>\n    </tr>\n    <tr>\n      <th>Basic EPS</th>\n      <td>NaN</td>\n      <td>-0.58</td>\n      <td>NaN</td>\n      <td>5.59</td>\n      <td>12.11</td>\n    </tr>\n    <tr>\n      <th>Diluted NI Availto Com Stockholders</th>\n      <td>NaN</td>\n      <td>-140100000.0</td>\n      <td>-9500000.0</td>\n      <td>1385500000.0</td>\n      <td>3059400000.0</td>\n    </tr>\n    <tr>\n      <th>Net Income Common Stockholders</th>\n      <td>NaN</td>\n      <td>-140100000.0</td>\n      <td>-9500000.0</td>\n      <td>1385500000.0</td>\n      <td>3059400000.0</td>\n    </tr>\n    <tr>\n      <th>Net Income</th>\n      <td>NaN</td>\n      <td>-140100000.0</td>\n      <td>-9500000.0</td>\n      <td>1385500000.0</td>\n      <td>3059400000.0</td>\n    </tr>\n    <tr>\n      <th>Minority Interests</th>\n      <td>NaN</td>\n      <td>-5600000.0</td>\n      <td>-25000000.0</td>\n      <td>4100000.0</td>\n      <td>-15200000.0</td>\n    </tr>\n    <tr>\n      <th>Net Income Including Noncontrolling Interests</th>\n      <td>NaN</td>\n      <td>-134500000.0</td>\n      <td>15500000.0</td>\n      <td>1381400000.0</td>\n      <td>3074600000.0</td>\n    </tr>\n    <tr>\n      <th>Net Income Continuous Operations</th>\n      <td>NaN</td>\n      <td>-134500000.0</td>\n      <td>15500000.0</td>\n      <td>1381400000.0</td>\n      <td>3074600000.0</td>\n    </tr>\n    <tr>\n      <th>Tax Provision</th>\n      <td>NaN</td>\n      <td>-78000000.0</td>\n      <td>-10600000.0</td>\n      <td>348700000.0</td>\n      <td>822500000.0</td>\n    </tr>\n    <tr>\n      <th>Pretax Income</th>\n      <td>NaN</td>\n      <td>-212500000.0</td>\n      <td>4900000.0</td>\n      <td>1730100000.0</td>\n      <td>3897100000.0</td>\n    </tr>\n    <tr>\n      <th>Other Operating Expenses</th>\n      <td>NaN</td>\n      <td>1242900000.0</td>\n      <td>1196900000.0</td>\n      <td>1111500000.0</td>\n      <td>1458500000.0</td>\n    </tr>\n    <tr>\n      <th>Total Revenue</th>\n      <td>NaN</td>\n      <td>2819000000.0</td>\n      <td>3122000000.0</td>\n      <td>4600900000.0</td>\n      <td>6658700000.0</td>\n    </tr>\n    <tr>\n      <th>Operating Revenue</th>\n      <td>NaN</td>\n      <td>2819000000.0</td>\n      <td>3122000000.0</td>\n      <td>4600900000.0</td>\n      <td>6658700000.0</td>\n    </tr>\n  </tbody>\n</table>\n</div>"
     },
     "execution_count": 333,
     "metadata": {},
     "output_type": "execute_result"
    }
   ],
   "source": [
    "tickers.tickers['PFG'].quarterly_income_stmt"
   ],
   "metadata": {
    "collapsed": false
   }
  },
  {
   "cell_type": "code",
   "execution_count": 308,
   "outputs": [],
   "source": [
    "# fetch reference data\n",
    "import time\n",
    "ref_data = []\n",
    "\n",
    "def get_reference(symbol):\n",
    "    ticker = tickers.tickers[symbol]\n",
    "    info = ticker.info\n",
    "    market_cap = info['marketCap']\n",
    "    sector = info['sector']\n",
    "    series = pd.Series({'Market Cap':market_cap, 'Sector': sector}, name=symbol)\n",
    "    return series\n",
    "\n",
    "for symbol in remaining_symbols:\n",
    "    try:\n",
    "        ref_data.append(get_reference(symbol))\n",
    "    except:\n",
    "        print(symbol)\n",
    "ref_data = pd.DataFrame(ref_data)"
   ],
   "metadata": {
    "collapsed": false
   }
  },
  {
   "cell_type": "code",
   "execution_count": 309,
   "outputs": [
    {
     "data": {
      "text/plain": "        Market Cap                  Sector\nTTWO   25671034880  Communication Services\nOMC    16309487616  Communication Services\nT     103303053312  Communication Services\nMETA  834117369856  Communication Services\nTMUS  169028501504  Communication Services\n...            ...                     ...\nFE     22535407616               Utilities\nEIX    27942438912               Utilities\nCMS    17796849664               Utilities\nSO     78890434560               Utilities\nLNT    13547298816               Utilities\n\n[217 rows x 2 columns]",
      "text/html": "<div>\n<style scoped>\n    .dataframe tbody tr th:only-of-type {\n        vertical-align: middle;\n    }\n\n    .dataframe tbody tr th {\n        vertical-align: top;\n    }\n\n    .dataframe thead th {\n        text-align: right;\n    }\n</style>\n<table border=\"1\" class=\"dataframe\">\n  <thead>\n    <tr style=\"text-align: right;\">\n      <th></th>\n      <th>Market Cap</th>\n      <th>Sector</th>\n    </tr>\n  </thead>\n  <tbody>\n    <tr>\n      <th>TTWO</th>\n      <td>25671034880</td>\n      <td>Communication Services</td>\n    </tr>\n    <tr>\n      <th>OMC</th>\n      <td>16309487616</td>\n      <td>Communication Services</td>\n    </tr>\n    <tr>\n      <th>T</th>\n      <td>103303053312</td>\n      <td>Communication Services</td>\n    </tr>\n    <tr>\n      <th>META</th>\n      <td>834117369856</td>\n      <td>Communication Services</td>\n    </tr>\n    <tr>\n      <th>TMUS</th>\n      <td>169028501504</td>\n      <td>Communication Services</td>\n    </tr>\n    <tr>\n      <th>...</th>\n      <td>...</td>\n      <td>...</td>\n    </tr>\n    <tr>\n      <th>FE</th>\n      <td>22535407616</td>\n      <td>Utilities</td>\n    </tr>\n    <tr>\n      <th>EIX</th>\n      <td>27942438912</td>\n      <td>Utilities</td>\n    </tr>\n    <tr>\n      <th>CMS</th>\n      <td>17796849664</td>\n      <td>Utilities</td>\n    </tr>\n    <tr>\n      <th>SO</th>\n      <td>78890434560</td>\n      <td>Utilities</td>\n    </tr>\n    <tr>\n      <th>LNT</th>\n      <td>13547298816</td>\n      <td>Utilities</td>\n    </tr>\n  </tbody>\n</table>\n<p>217 rows × 2 columns</p>\n</div>"
     },
     "execution_count": 309,
     "metadata": {},
     "output_type": "execute_result"
    }
   ],
   "source": [
    "ref_data"
   ],
   "metadata": {
    "collapsed": false
   }
  },
  {
   "cell_type": "code",
   "execution_count": 326,
   "outputs": [
    {
     "data": {
      "text/plain": "0"
     },
     "execution_count": 326,
     "metadata": {},
     "output_type": "execute_result"
    }
   ],
   "source": [
    "ref_data.isnull().values.sum()"
   ],
   "metadata": {
    "collapsed": false
   }
  },
  {
   "cell_type": "code",
   "execution_count": 320,
   "outputs": [
    {
     "data": {
      "text/plain": "True"
     },
     "execution_count": 320,
     "metadata": {},
     "output_type": "execute_result"
    }
   ],
   "source": [
    "# check result matches\n",
    "(complete_fundamental_data.index.get_level_values('Symbol').unique().sort_values() ==clean_tech_data.index.get_level_values('Symbol').unique().sort_values()).all()"
   ],
   "metadata": {
    "collapsed": false
   }
  },
  {
   "cell_type": "code",
   "execution_count": 321,
   "outputs": [
    {
     "data": {
      "text/plain": "True"
     },
     "execution_count": 321,
     "metadata": {},
     "output_type": "execute_result"
    }
   ],
   "source": [
    "(complete_fundamental_data.index.get_level_values('Symbol').unique().sort_values() == ref_data.index.sort_values()).all()"
   ],
   "metadata": {
    "collapsed": false
   }
  },
  {
   "cell_type": "code",
   "execution_count": 322,
   "outputs": [],
   "source": [
    "clean_tech_data.to_csv('tech_data.csv')"
   ],
   "metadata": {
    "collapsed": false
   }
  },
  {
   "cell_type": "code",
   "execution_count": 323,
   "outputs": [],
   "source": [
    "complete_fundamental_data.to_csv('fundmental_data.csv')"
   ],
   "metadata": {
    "collapsed": false
   }
  },
  {
   "cell_type": "code",
   "execution_count": 324,
   "outputs": [],
   "source": [
    "ref_data.to_csv('reference_data.csv')"
   ],
   "metadata": {
    "collapsed": false
   }
  },
  {
   "cell_type": "code",
   "execution_count": null,
   "outputs": [],
   "source": [],
   "metadata": {
    "collapsed": false
   }
  }
 ],
 "metadata": {
  "kernelspec": {
   "display_name": "Python 3",
   "language": "python",
   "name": "python3"
  },
  "language_info": {
   "codemirror_mode": {
    "name": "ipython",
    "version": 2
   },
   "file_extension": ".py",
   "mimetype": "text/x-python",
   "name": "python",
   "nbconvert_exporter": "python",
   "pygments_lexer": "ipython2",
   "version": "2.7.6"
  }
 },
 "nbformat": 4,
 "nbformat_minor": 0
}
