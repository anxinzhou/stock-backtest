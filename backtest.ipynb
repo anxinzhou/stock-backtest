{
 "cells": [
  {
   "cell_type": "markdown",
   "source": [
    "# Backtest \n",
    "\n",
    "This backtest includes four parts  \n",
    "\n",
    "1. Data exploration\n",
    "2. Signal construction\n",
    "3. Backtest and evaluation\n",
    "4. Summary"
   ],
   "metadata": {
    "collapsed": false
   },
   "id": "f0581151e757fcf"
  },
  {
   "cell_type": "code",
   "execution_count": 1,
   "outputs": [
    {
     "name": "stdout",
     "output_type": "stream",
     "text": [
      "(142627, 6) (200, 3) (2291, 5)\n"
     ]
    }
   ],
   "source": [
    "# setup\n",
    "%matplotlib inline\n",
    "import math\n",
    "import pandas as pd\n",
    "import seaborn as sns\n",
    "import numpy as np\n",
    "from typing import List\n",
    "import matplotlib.pyplot as plt\n",
    "from scipy.stats import mstats\n",
    "\n",
    "# 1. Global hyper-parameters\n",
    "\n",
    "# percentage of stocks to long or short at a time in a cross-sectional strategy\n",
    "LONG_SHORT_THRESHOLD = 0.3\n",
    "# skip if the number of valid cross-sectional stocks is fewer - this mitigates portfolio concentration\n",
    "MIN_STOCKS = 20\n",
    "# filter stocks by amount, i.e., price * volume > one million - mitigate trading stocks that are illquid or subject to price manipulation\n",
    "INACTIVE_TRADING_AMOUNT = 1000000\n",
    "\n",
    "## load data \n",
    "technical = pd.read_csv('https://raw.githubusercontent.com/scmqtest/data/main/technical.csv')\n",
    "refdata = pd.read_csv('https://raw.githubusercontent.com/scmqtest/data/main/refdata.csv')\n",
    "fundamental = pd.read_csv('https://raw.githubusercontent.com/scmqtest/data/main/fundamental.csv')\n",
    "\n",
    "print(technical.shape, refdata.shape, fundamental.shape)"
   ],
   "metadata": {
    "collapsed": false,
    "ExecuteTime": {
     "end_time": "2023-07-31T10:11:28.511641500Z",
     "start_time": "2023-07-31T10:11:23.817431200Z"
    }
   },
   "id": "a4f8c2e9fadbd4c1"
  },
  {
   "cell_type": "markdown",
   "source": [
    "## 1. Data exploration\n",
    "\n",
    "Data exploration involves three steps:\n",
    "1. check data types and transform format\n",
    "2. check empty and missing values \n",
    "3. detect outliers "
   ],
   "metadata": {
    "collapsed": false
   },
   "id": "1e5edd355c4fed0"
  },
  {
   "cell_type": "markdown",
   "source": [
    "### 1.1 check data types and transform format"
   ],
   "metadata": {
    "collapsed": false
   },
   "id": "e9ddc68301ee9246"
  },
  {
   "cell_type": "code",
   "execution_count": 2,
   "outputs": [
    {
     "data": {
      "text/plain": "     id        date  px_raw  px_adj     vlm_adj      beta\n0  7203  2020-01-06  7565.0  1513.0  33362500.0  0.737115\n1  6758  2020-01-06  7420.0  7420.0   5154100.0  0.592054\n2  9437  2020-01-06  3031.0  3031.0   3883800.0  0.012950",
      "text/html": "<div>\n<style scoped>\n    .dataframe tbody tr th:only-of-type {\n        vertical-align: middle;\n    }\n\n    .dataframe tbody tr th {\n        vertical-align: top;\n    }\n\n    .dataframe thead th {\n        text-align: right;\n    }\n</style>\n<table border=\"1\" class=\"dataframe\">\n  <thead>\n    <tr style=\"text-align: right;\">\n      <th></th>\n      <th>id</th>\n      <th>date</th>\n      <th>px_raw</th>\n      <th>px_adj</th>\n      <th>vlm_adj</th>\n      <th>beta</th>\n    </tr>\n  </thead>\n  <tbody>\n    <tr>\n      <th>0</th>\n      <td>7203</td>\n      <td>2020-01-06</td>\n      <td>7565.0</td>\n      <td>1513.0</td>\n      <td>33362500.0</td>\n      <td>0.737115</td>\n    </tr>\n    <tr>\n      <th>1</th>\n      <td>6758</td>\n      <td>2020-01-06</td>\n      <td>7420.0</td>\n      <td>7420.0</td>\n      <td>5154100.0</td>\n      <td>0.592054</td>\n    </tr>\n    <tr>\n      <th>2</th>\n      <td>9437</td>\n      <td>2020-01-06</td>\n      <td>3031.0</td>\n      <td>3031.0</td>\n      <td>3883800.0</td>\n      <td>0.012950</td>\n    </tr>\n  </tbody>\n</table>\n</div>"
     },
     "execution_count": 2,
     "metadata": {},
     "output_type": "execute_result"
    }
   ],
   "source": [
    "technical.head(3)"
   ],
   "metadata": {
    "collapsed": false,
    "ExecuteTime": {
     "end_time": "2023-07-31T10:11:28.522651500Z",
     "start_time": "2023-07-31T10:11:28.509872900Z"
    }
   },
   "id": "68cde3ab4b71147f"
  },
  {
   "cell_type": "code",
   "execution_count": 3,
   "outputs": [
    {
     "data": {
      "text/plain": "id           int64\ndate        object\npx_raw     float64\npx_adj     float64\nvlm_adj    float64\nbeta       float64\ndtype: object"
     },
     "execution_count": 3,
     "metadata": {},
     "output_type": "execute_result"
    }
   ],
   "source": [
    "technical.dtypes  # data types are consistent with my obersvation"
   ],
   "metadata": {
    "collapsed": false,
    "ExecuteTime": {
     "end_time": "2023-07-31T10:11:28.574728Z",
     "start_time": "2023-07-31T10:11:28.521653700Z"
    }
   },
   "id": "ea584b3f4b4bc4b8"
  },
  {
   "cell_type": "code",
   "execution_count": 4,
   "outputs": [
    {
     "data": {
      "text/plain": "     id       mktcap                    gics\n0  7203  29570914.77  Consumer Discretionary\n1  9432  13626011.61  Communication Services\n2  6758  12654955.67  Consumer Discretionary",
      "text/html": "<div>\n<style scoped>\n    .dataframe tbody tr th:only-of-type {\n        vertical-align: middle;\n    }\n\n    .dataframe tbody tr th {\n        vertical-align: top;\n    }\n\n    .dataframe thead th {\n        text-align: right;\n    }\n</style>\n<table border=\"1\" class=\"dataframe\">\n  <thead>\n    <tr style=\"text-align: right;\">\n      <th></th>\n      <th>id</th>\n      <th>mktcap</th>\n      <th>gics</th>\n    </tr>\n  </thead>\n  <tbody>\n    <tr>\n      <th>0</th>\n      <td>7203</td>\n      <td>29570914.77</td>\n      <td>Consumer Discretionary</td>\n    </tr>\n    <tr>\n      <th>1</th>\n      <td>9432</td>\n      <td>13626011.61</td>\n      <td>Communication Services</td>\n    </tr>\n    <tr>\n      <th>2</th>\n      <td>6758</td>\n      <td>12654955.67</td>\n      <td>Consumer Discretionary</td>\n    </tr>\n  </tbody>\n</table>\n</div>"
     },
     "execution_count": 4,
     "metadata": {},
     "output_type": "execute_result"
    }
   ],
   "source": [
    "refdata.head(3)"
   ],
   "metadata": {
    "collapsed": false,
    "ExecuteTime": {
     "end_time": "2023-07-31T10:11:28.591904300Z",
     "start_time": "2023-07-31T10:11:28.530648Z"
    }
   },
   "id": "9ad2d0f3dae9d0f2"
  },
  {
   "cell_type": "code",
   "execution_count": 5,
   "outputs": [
    {
     "data": {
      "text/plain": "id          int64\nmktcap    float64\ngics       object\ndtype: object"
     },
     "execution_count": 5,
     "metadata": {},
     "output_type": "execute_result"
    }
   ],
   "source": [
    "refdata.dtypes  # consistent too"
   ],
   "metadata": {
    "collapsed": false,
    "ExecuteTime": {
     "end_time": "2023-07-31T10:11:28.592905800Z",
     "start_time": "2023-07-31T10:11:28.535649200Z"
    }
   },
   "id": "d17304aa82a6ebcc"
  },
  {
   "cell_type": "code",
   "execution_count": 6,
   "outputs": [
    {
     "data": {
      "text/plain": "     id        date        eps  revenue  capex\n0  6146  2020-01-24  58.754232  34435.0    NaN\n1  6146  2020-06-26  76.729069  38785.0    NaN\n2  6146  2020-07-29  59.968501  35654.0    NaN",
      "text/html": "<div>\n<style scoped>\n    .dataframe tbody tr th:only-of-type {\n        vertical-align: middle;\n    }\n\n    .dataframe tbody tr th {\n        vertical-align: top;\n    }\n\n    .dataframe thead th {\n        text-align: right;\n    }\n</style>\n<table border=\"1\" class=\"dataframe\">\n  <thead>\n    <tr style=\"text-align: right;\">\n      <th></th>\n      <th>id</th>\n      <th>date</th>\n      <th>eps</th>\n      <th>revenue</th>\n      <th>capex</th>\n    </tr>\n  </thead>\n  <tbody>\n    <tr>\n      <th>0</th>\n      <td>6146</td>\n      <td>2020-01-24</td>\n      <td>58.754232</td>\n      <td>34435.0</td>\n      <td>NaN</td>\n    </tr>\n    <tr>\n      <th>1</th>\n      <td>6146</td>\n      <td>2020-06-26</td>\n      <td>76.729069</td>\n      <td>38785.0</td>\n      <td>NaN</td>\n    </tr>\n    <tr>\n      <th>2</th>\n      <td>6146</td>\n      <td>2020-07-29</td>\n      <td>59.968501</td>\n      <td>35654.0</td>\n      <td>NaN</td>\n    </tr>\n  </tbody>\n</table>\n</div>"
     },
     "execution_count": 6,
     "metadata": {},
     "output_type": "execute_result"
    }
   ],
   "source": [
    "fundamental.head(3)    "
   ],
   "metadata": {
    "collapsed": false,
    "ExecuteTime": {
     "end_time": "2023-07-31T10:11:28.674925700Z",
     "start_time": "2023-07-31T10:11:28.542649500Z"
    }
   },
   "id": "93d5664219e2a1eb"
  },
  {
   "cell_type": "code",
   "execution_count": 7,
   "outputs": [
    {
     "data": {
      "text/plain": "id           int64\ndate        object\neps        float64\nrevenue    float64\ncapex      float64\ndtype: object"
     },
     "execution_count": 7,
     "metadata": {},
     "output_type": "execute_result"
    }
   ],
   "source": [
    "fundamental.dtypes # consistent too"
   ],
   "metadata": {
    "collapsed": false,
    "ExecuteTime": {
     "end_time": "2023-07-31T10:11:28.674925700Z",
     "start_time": "2023-07-31T10:11:28.550650200Z"
    }
   },
   "id": "c662240a43cfdbef"
  },
  {
   "cell_type": "markdown",
   "source": [
    "The give data all have data types consistent with my expectation. The next step is to reset their indexes and add the column shares outstanding to the reference data.\n",
    "I assume that shares outstanding does not change too much across three years so that market cap can be computed by shares outstanding and recent price as per trade."
   ],
   "metadata": {
    "collapsed": false
   },
   "id": "edcdcac7b279fa0b"
  },
  {
   "cell_type": "code",
   "execution_count": 8,
   "outputs": [],
   "source": [
    "# use ticks to replace dates for easier programming\n",
    "# for example, getting past 20 days only need loc[cur_tick-20:cur_tick-1]\n",
    "calendar = technical.date.unique()\n",
    "calendar_map = {date: i for i, date in enumerate(calendar)}\n",
    "technical['tick'] = technical.date.transform(lambda x: calendar_map[x])\n",
    "technical.set_index(['tick', 'id'], inplace=True)\n",
    "refdata.set_index('id', inplace=True)\n",
    "fundamental.set_index(['id', 'date'], inplace=True)\n",
    "\n",
    "# drop unused rows\n",
    "unused_stocks = refdata.index.difference(technical.index.get_level_values('id'))\n",
    "refdata.drop(unused_stocks, inplace=True)\n",
    "# ensure id is consistent in the three kinds of data\n",
    "assert (refdata.index == refdata.index.get_level_values(\"id\")).all()\n",
    "\n",
    "# compute shares outstanding\n",
    "last_tick = technical.index.get_level_values('tick')[-1]\n",
    "price_data = technical.groupby(level='id').apply(lambda x: x.px_adj.iloc[-1])\n",
    "refdata['shares'] = refdata.mktcap / price_data"
   ],
   "metadata": {
    "collapsed": false,
    "ExecuteTime": {
     "end_time": "2023-07-31T10:11:28.735021100Z",
     "start_time": "2023-07-31T10:11:28.559647800Z"
    }
   },
   "id": "e724978e1b2da30d"
  },
  {
   "cell_type": "markdown",
   "source": [
    "### 1.2 Check empty and missing values "
   ],
   "metadata": {
    "collapsed": false
   },
   "id": "664b3264ab7316b1"
  },
  {
   "cell_type": "code",
   "execution_count": 9,
   "outputs": [
    {
     "data": {
      "text/plain": "date       0\npx_raw     0\npx_adj     0\nvlm_adj    0\nbeta       0\ndtype: int64"
     },
     "execution_count": 9,
     "metadata": {},
     "output_type": "execute_result"
    }
   ],
   "source": [
    "technical.isnull().sum()"
   ],
   "metadata": {
    "collapsed": false,
    "ExecuteTime": {
     "end_time": "2023-07-31T10:11:28.736021200Z",
     "start_time": "2023-07-31T10:11:28.615901700Z"
    }
   },
   "id": "66bab3a957b0c9d1"
  },
  {
   "cell_type": "code",
   "execution_count": 10,
   "outputs": [
    {
     "data": {
      "text/plain": "mktcap    0\ngics      0\nshares    0\ndtype: int64"
     },
     "execution_count": 10,
     "metadata": {},
     "output_type": "execute_result"
    }
   ],
   "source": [
    "refdata.isnull().sum()"
   ],
   "metadata": {
    "collapsed": false,
    "ExecuteTime": {
     "end_time": "2023-07-31T10:11:28.736021200Z",
     "start_time": "2023-07-31T10:11:28.626034400Z"
    }
   },
   "id": "a95ff865cc6cde5d"
  },
  {
   "cell_type": "code",
   "execution_count": 11,
   "outputs": [
    {
     "data": {
      "text/plain": "eps          1\nrevenue      0\ncapex      980\ndtype: int64"
     },
     "execution_count": 11,
     "metadata": {},
     "output_type": "execute_result"
    }
   ],
   "source": [
    "fundamental.isnull().sum() "
   ],
   "metadata": {
    "collapsed": false,
    "ExecuteTime": {
     "end_time": "2023-07-31T10:11:28.737022100Z",
     "start_time": "2023-07-31T10:11:28.630218700Z"
    }
   },
   "id": "6e24a6450375ce6"
  },
  {
   "cell_type": "markdown",
   "source": [
    "Drop the column capex as it contains too many null values and aksi is not a required field for this backtest.\n",
    "The eps column contains one null value, but there seems no accurate way to fill the gap."
   ],
   "metadata": {
    "collapsed": false
   },
   "id": "35bde9b754670586"
  },
  {
   "cell_type": "code",
   "execution_count": 12,
   "outputs": [],
   "source": [
    "fundamental.drop('capex', axis=1, inplace=True)"
   ],
   "metadata": {
    "collapsed": false,
    "ExecuteTime": {
     "end_time": "2023-07-31T10:11:28.737022100Z",
     "start_time": "2023-07-31T10:11:28.640591Z"
    }
   },
   "id": "b48108807986d33"
  },
  {
   "cell_type": "markdown",
   "source": [
    "The next step is to count each stock's non-null price data.\n",
    "Drop the stocks that have too few data."
   ],
   "metadata": {
    "collapsed": false
   },
   "id": "2f5e675e305e51c2"
  },
  {
   "cell_type": "code",
   "execution_count": 13,
   "outputs": [
    {
     "data": {
      "text/plain": "id\n3938    243\n4217    111\n4508     34\n8028    215\n8036     86\n8729    160\n9437    241\ndtype: int64"
     },
     "execution_count": 13,
     "metadata": {},
     "output_type": "execute_result"
    }
   ],
   "source": [
    "(~technical.px_adj.unstack(level='id').isnull()).sum().loc[lambda x:x<1/2*(252*3)] "
   ],
   "metadata": {
    "collapsed": false,
    "ExecuteTime": {
     "end_time": "2023-07-31T10:11:28.738021100Z",
     "start_time": "2023-07-31T10:11:28.645590500Z"
    }
   },
   "id": "9f12e32aad72fc04"
  },
  {
   "cell_type": "markdown",
   "source": [
    "Only a few stock have less than half data. my choice is to keep not to drop them since the data size is acceptable.\n",
    "However even if a stock has enough non-null price data, it does not mean the price data is good, because there could be many gaps.\n",
    "For example, a stock may be listed for two years, but there are many gaps in the period."
   ],
   "metadata": {
    "collapsed": false
   },
   "id": "151b9a4e714308fe"
  },
  {
   "cell_type": "code",
   "execution_count": 14,
   "outputs": [
    {
     "data": {
      "text/plain": "0"
     },
     "execution_count": 14,
     "metadata": {},
     "output_type": "execute_result"
    }
   ],
   "source": [
    "def price_over_missing(data, threshold):\n",
    "    tmp = data[~data.isnull()]\n",
    "    ticks = tmp.index.get_level_values(0)\n",
    "    if len(ticks) /(ticks.max()-ticks.min())< threshold:\n",
    "        return False \n",
    "    return True \n",
    "len(technical.px_adj.groupby(level='id').apply(price_over_missing, 0.9).loc[lambda x:x==0])"
   ],
   "metadata": {
    "collapsed": false,
    "ExecuteTime": {
     "end_time": "2023-07-31T10:11:28.794187500Z",
     "start_time": "2023-07-31T10:11:28.677927800Z"
    }
   },
   "id": "1744a72872bebdeb"
  },
  {
   "cell_type": "code",
   "execution_count": 15,
   "outputs": [
    {
     "data": {
      "text/plain": "86"
     },
     "execution_count": 15,
     "metadata": {},
     "output_type": "execute_result"
    }
   ],
   "source": [
    "len(technical.px_adj.groupby(level='id').apply(price_over_missing, 0.95).loc[lambda x:x==0])"
   ],
   "metadata": {
    "collapsed": false,
    "ExecuteTime": {
     "end_time": "2023-07-31T10:11:28.909997200Z",
     "start_time": "2023-07-31T10:11:28.768336500Z"
    }
   },
   "id": "3b944a2a44999aae"
  },
  {
   "cell_type": "markdown",
   "source": [
    "As shown above, most stocks have continous data. For missing values in the continous period, an option is to fill each gap with previous values.\n",
    "I did not do so since the strategy I tested could be short-run. I wanted to avoid the influence of price change.\n",
    "\n",
    "I merely checked each stock's price data here because it influences our computation for returns. \n",
    "In practice, if our signal heavily relies on other data, e.g., volume, we may need to examine they as well. "
   ],
   "metadata": {
    "collapsed": false
   },
   "id": "6b41f6a18701ded5"
  },
  {
   "cell_type": "markdown",
   "source": [
    "### 1.3 Detect outliers\n",
    "\n",
    "I used mean-3\\*std and mean+3\\*std as the lower bound and upper bound to detect outliers. \n",
    "I only checked price and volume data since the data are sufficient and they are less likely to fall out of the range.  "
   ],
   "metadata": {
    "collapsed": false
   },
   "id": "794e918fd42163f8"
  },
  {
   "cell_type": "code",
   "execution_count": 16,
   "outputs": [
    {
     "name": "stdout",
     "output_type": "stream",
     "text": [
      "False\n",
      "False\n"
     ]
    }
   ],
   "source": [
    "# as shown abov# check outliers for technical data using mean-3*std and mean+3*std as lower bound and upper bound\n",
    "# unable to detect outliers for fundamental and reference data due to insufficient data\n",
    "def tech_outlier_exist(data: pd.Series):\n",
    "    interval = 10  # 10 trading days\n",
    "    for i in range(math.ceil(len(data) / interval)):\n",
    "        s = i * interval\n",
    "        e = min(len(data), (i + 1) * interval)\n",
    "        if e - s < interval:\n",
    "            s = e - interval\n",
    "        if s < 0:\n",
    "            print(\"not able to judge for insufficient data\")\n",
    "            return False\n",
    "        tmp = data.iloc[s:e]\n",
    "\n",
    "        mean = tmp.mean()\n",
    "        std = tmp.std()\n",
    "        lower_bound = mean - 3 * std\n",
    "        upper_bound = mean + 3 * std\n",
    "        if ((tmp < lower_bound) | (tmp > upper_bound)).any(axis=None):\n",
    "            return True\n",
    "    return False\n",
    "\n",
    "\n",
    "print(technical.vlm_adj.groupby(level='id').apply(tech_outlier_exist).any()) \n",
    "print(technical.px_adj.groupby(level='id').apply(tech_outlier_exist).any())  "
   ],
   "metadata": {
    "collapsed": false,
    "ExecuteTime": {
     "end_time": "2023-07-31T10:11:36.111201100Z",
     "start_time": "2023-07-31T10:11:28.775334900Z"
    }
   },
   "id": "6d8d04ad67aec06f"
  },
  {
   "cell_type": "markdown",
   "source": [
    "There seems no outliers. If so, better to check if the price is reasonable first before removing the data"
   ],
   "metadata": {
    "collapsed": false
   },
   "id": "dddb021370e3d16d"
  },
  {
   "cell_type": "markdown",
   "source": [
    "## 2. Signal construction\n",
    "\n",
    "The signal is constructed by combing four factors. This section includes two parts.\n",
    "\n",
    "1. Factor construction \n",
    "2. Signal construction"
   ],
   "metadata": {
    "collapsed": false
   },
   "id": "9207af59c4393613"
  },
  {
   "cell_type": "markdown",
   "source": [
    "## 2.1 Factor construction\n",
    "\n",
    "Four factors including, ema/price, pe ratio, value, BBI momentum.\n",
    "\n",
    "1. ema/price = N-days exponential moving average/previous price\n",
    "2. pe/ratio = previous price/eps \n",
    "3. value = log2(market cap)\n",
    "4. BBI momentum = BBI(3,6,12,24)/previous price, among which BBI(3,6,12,24)=(avg_price(3)+avg_price(6)+avg_price(12)+avg_price(24))/4"
   ],
   "metadata": {
    "collapsed": false
   },
   "id": "fc2ee93fdf6e4e0d"
  },
  {
   "cell_type": "code",
   "execution_count": 17,
   "outputs": [],
   "source": [
    "# an indicator(aka. factor) interface\n",
    "class Indicator:\n",
    "    def __str__(self):\n",
    "        raise NotImplementedError(\"str function not implemented\")\n",
    "\n",
    "    def value(self, cur_tick, **kwargs):  # return factor values for stocks\n",
    "        raise NotImplementedError(\"value function not implemented\")\n",
    "\n",
    "\n",
    "# Following are the definition of four factors\n",
    "# Factors are binarized when combined, so pre-processing such as normalization is not necessary\n",
    "# exponential moving average divded by the previous close price\n",
    "class EMADivPrice(Indicator):\n",
    "    def __init__(self, lookback):\n",
    "        self.lookback = lookback\n",
    "\n",
    "    def __str__(self):\n",
    "        return f'{self.lookback}-days ema/price'\n",
    "\n",
    "    def eval(self, techdata: pd.DataFrame):\n",
    "        if len(techdata) < self.lookback:\n",
    "            return np.nan\n",
    "        ema = 0\n",
    "        for i in range(len(techdata)):\n",
    "            ema = 2 * techdata.iloc[i].px_adj / (self.lookback + 1) + (self.lookback - 1) * ema / (self.lookback + 1)\n",
    "        return ema / techdata.iloc[-1].px_adj\n",
    "\n",
    "    def value(self, cur_tick, **kwargs):\n",
    "        technical = kwargs['technical']\n",
    "        techdata = technical.loc[max(cur_tick - 1 + 1 - self.lookback, 0): cur_tick - 1]  # loc range is inclusive\n",
    "        return techdata.groupby(level='id').apply(lambda x: self.eval(x))\n",
    "\n",
    "\n",
    "# price to earning ratio\n",
    "class PERatio(Indicator):\n",
    "    def __str__(self):\n",
    "        return f'PE ratio'\n",
    "\n",
    "    def eval(self, row, cur_date, fundamental):\n",
    "        eps = fundamental.query(f\"id=={row.id} and date<'{cur_date}'\").eps\n",
    "        if len(eps) == 0:\n",
    "            return np.nan\n",
    "        eps = eps.iloc[-1]\n",
    "        return row.px_adj / eps\n",
    "\n",
    "    def value(self, cur_tick, **kwargs):\n",
    "        tick_date_map = kwargs['tick_date_map']\n",
    "        cur_date = tick_date_map[cur_tick]\n",
    "        technical = kwargs['technical']\n",
    "        fundamental = kwargs['fundamental']\n",
    "        price_data = technical.loc[cur_tick - 1, 'px_adj'].copy()\n",
    "        price_data.loc[:] = price_data.reset_index().apply(lambda row: self.eval(row, cur_date, fundamental), axis=1)\n",
    "        return price_data\n",
    "\n",
    "\n",
    "# use log-normalized market cap as value\n",
    "class Value(Indicator):\n",
    "    def __str__(self):\n",
    "        return f'value=log2(mktcap)'\n",
    "\n",
    "    def value(self, cur_tick, **kwargs):\n",
    "        technical = kwargs['technical']\n",
    "        shares = kwargs['refdata'].shares\n",
    "        price_data = technical.loc[cur_tick - 1, 'px_adj'].copy()\n",
    "        price_data.loc[:] = price_data.reset_index().apply(lambda x: x.px_adj * shares.loc[x.id], axis=1)\n",
    "        val = np.log2(price_data)\n",
    "        return val\n",
    "\n",
    "\n",
    "# BBI(3,6,12,24)/price\n",
    "# BBI(3,6,12,24) is the average of 3-days avg. price, 6-days, and so\n",
    "class BBIMomentum(Indicator):\n",
    "\n",
    "    def __str__(self):\n",
    "        return f'BBI(3,6,12,24)/price'\n",
    "\n",
    "    def eval(self, techdata: pd.DataFrame):\n",
    "        if len(techdata) < 24:\n",
    "            return np.nan\n",
    "        avg_price_3 = techdata.iloc[-3:].px_adj.mean()\n",
    "        avg_price_6 = techdata.iloc[-6:].px_adj.mean()\n",
    "        avg_price_12 = techdata.iloc[-12:].px_adj.mean()\n",
    "        avg_price_24 = techdata.iloc[-24:].px_adj.mean()\n",
    "        return (avg_price_3 + avg_price_6 + avg_price_12 + avg_price_24) / 4 / techdata.iloc[-1].px_adj\n",
    "\n",
    "    def value(self, cur_tick, **kwargs):\n",
    "        technical = kwargs['technical']\n",
    "        techdata = technical.loc[max(cur_tick - 1 + 1 - 24, 0): cur_tick - 1]\n",
    "        return techdata.groupby(level='id').apply(lambda x: self.eval(x))"
   ],
   "metadata": {
    "collapsed": false,
    "ExecuteTime": {
     "end_time": "2023-07-31T10:11:36.117649300Z",
     "start_time": "2023-07-31T10:11:36.106999400Z"
    }
   },
   "id": "697346801e91660b"
  },
  {
   "cell_type": "markdown",
   "source": [
    "## 2.2 Signal construction\n",
    "\n",
    "Combine factors to form a signal. \n",
    "First, each factor's value is binarized to mitigate the bias of a single factor. For each factor, stocks are first sorted by the factor values in descending order. Top-30% stocks are scored by 1. Bottom-30% stocks are scored by -1. The remaining are scored by 0. Note that a stock having a null factor value has a null score. \n",
    "Then, a stock's finally score is computed by summing all scores. Note that if a stock's all factor values are null, the stock won't be considered for trading at the moment.\n",
    "Later in the backtest, long top-30% stocks and short bottom-30% stocks."
   ],
   "metadata": {
    "collapsed": false
   },
   "id": "5e9e13fac0645f96"
  },
  {
   "cell_type": "code",
   "execution_count": 18,
   "outputs": [],
   "source": [
    "class Signal:\n",
    "    def __init__(self, indicators: List[Indicator]):\n",
    "        self.indicators = indicators\n",
    "\n",
    "    def value(self, cur_tick: int, **kwargs):\n",
    "        values = []\n",
    "        for ind in self.indicators:\n",
    "            val = ind.value(cur_tick, **kwargs)\n",
    "            non_null_val = val[~val.isnull()]\n",
    "            non_null_val.sort_values(ascending=False)\n",
    "            if len(non_null_val) >= MIN_STOCKS:\n",
    "                long_num = int(len(non_null_val) * LONG_SHORT_THRESHOLD)\n",
    "                short_num = int(len(non_null_val) * LONG_SHORT_THRESHOLD)\n",
    "                val.loc[non_null_val[:long_num].index] = 1\n",
    "                val.loc[non_null_val[-short_num:].index] = -1\n",
    "                val.loc[non_null_val[long_num:-short_num].index] = 0\n",
    "            val.name = str(ind)\n",
    "            values.append(val)\n",
    "        values = pd.DataFrame(values).T  #\n",
    "        # sum all factor values\n",
    "        # the function sum() by default skip nan values\n",
    "        # but I want to retain nan values if a stock's all factors values are nan\n",
    "        # this helps filter stocks\n",
    "        return values.apply(lambda x: x.sum() if not x.isna().all() else np.nan, axis=1)"
   ],
   "metadata": {
    "collapsed": false,
    "ExecuteTime": {
     "end_time": "2023-07-31T10:11:36.178151400Z",
     "start_time": "2023-07-31T10:11:36.119793Z"
    }
   },
   "id": "9e3fa1a67242f458"
  },
  {
   "cell_type": "markdown",
   "source": [
    "## 3. Backtest and evaluation"
   ],
   "metadata": {
    "collapsed": false
   },
   "id": "e8fdb645790eb0e7"
  },
  {
   "cell_type": "markdown",
   "source": [
    "### 3.1 Methodology\n",
    "\n",
    "#### Backtest \n",
    "The main logic is included in the function run. (each tick stands for a single trading day)\n",
    "Every period, rebalance portfolio if there are more than 20 tradable stocks at cross-section. \n",
    "A stock is tradable if its all factor values are not null, if its recent trading amount is more than 1 million and if its price data is not missing. \n",
    "Stocks are first sorted by their signal values.\n",
    "The new portfolio is then chosen by long top 30% and short botttom 30%.\n",
    "Stocks are next weighted by market caps, which are first applied log2 and then winsorized by capping top 5% and bottom 5%.\n",
    "The weights are further adjusted according to the beta of top 30% and that of bottom 30%, to make the final beta zero.\n",
    "I used the variable self.trading_history to record each trade for computing evaluation metrics. \n",
    "\n",
    "#### Evaluation\n",
    "Evaluation includes the following 7 metrics. Note that transaction fees are considered and are set to to 3bp in this backtest.\n",
    "1. Cumulative return\n",
    "2. Annual sharp ratio\n",
    "3. Return on trades: the average profit on each trade\n",
    "4. Number of trades\n",
    "5. Transaction cost: transaction fees/intial asset\n",
    "6. Max drawdawn\n",
    "7. Average turnover"
   ],
   "metadata": {
    "collapsed": false
   },
   "id": "3cc98d37ad956b34"
  },
  {
   "cell_type": "code",
   "execution_count": 19,
   "id": "9b9657cc60d00bfd",
   "metadata": {
    "collapsed": true,
    "ExecuteTime": {
     "end_time": "2023-07-31T10:11:36.202152800Z",
     "start_time": "2023-07-31T10:11:36.197153800Z"
    }
   },
   "outputs": [],
   "source": [
    "# backtest\n",
    "# main logic happens in the function run\n",
    "class BackTest:\n",
    "    def __init__(self, period: int, fee_rate: float = 0):\n",
    "        # adjust portfolio by period\n",
    "        self.period = period  # the period to adjust portfolio\n",
    "        self.fee_rate = fee_rate\n",
    "        self.trading_history = []  # record each trade\n",
    "\n",
    "    def register_data(self, technical: pd.DataFrame, fundamental: pd.DataFrame, refdata: pd.DataFrame):\n",
    "        self.technical = technical\n",
    "        self.fundamental = fundamental\n",
    "        self.refdata = refdata\n",
    "        self.tick_num = technical.index.get_level_values('tick').nunique()\n",
    "        trading_calendar = technical.date.unique()\n",
    "        self.tick_date_map = {i: date for i, date in enumerate(trading_calendar)}\n",
    "\n",
    "    def register_signal(self, signal: Signal):\n",
    "        self.signal = signal\n",
    "\n",
    "    def run(self):\n",
    "        trading_history = []\n",
    "        for cur_tick in range(1, self.tick_num):\n",
    "            # portfolio are periolly adjusted to reduce risk.\n",
    "            # ideally, under-performed stocks are swapped out\n",
    "            if (cur_tick + 1) % self.period != 0:\n",
    "                continue\n",
    "\n",
    "            # compute signal for stocks\n",
    "            val = self.signal.value(cur_tick, technical=self.technical, fundamental=self.fundamental,\n",
    "                                    refdata=self.refdata, tick_date_map=self.tick_date_map)\n",
    "            non_null_val = val[~val.isnull()]  # filter stocks that don't have any valid factors\n",
    "\n",
    "            # skip stocks that miss price data or have been delisted\n",
    "            # skip the stocks miss current-date data, cuz I use the close price as buy price\n",
    "            # skip may be better for a short-run strategy, since price change in a few days could matter a lot\n",
    "            missing_stocks = non_null_val.index.difference(self.technical.loc[cur_tick].index)\n",
    "            non_null_val.drop(missing_stocks, inplace=True)\n",
    "            # in the following, will first use latest trading amount to filter inactive stocks\n",
    "            # then use market cap to construct weighted portfolio\n",
    "            # here, these metrics are not that sensitive to price variation. So use previous data to fill missing values\n",
    "            missing_stocks = non_null_val.index.difference(self.technical.loc[cur_tick - 1].index)\n",
    "            techdata = self.technical.loc[(cur_tick - 1, non_null_val.index.difference(missing_stocks)), :]\n",
    "            for stock in missing_stocks:\n",
    "                c = 2\n",
    "                while (cur_tick - c, stock) not in self.technical.index:\n",
    "                    c += 1\n",
    "                    assert cur_tick - c >= 0, f\"stock {stock} may miss too many data\"\n",
    "                techdata[(cur_tick, stock)] = self.technical.loc[(cur_tick - c, stock)]\n",
    "            techdata = techdata.droplevel('tick')\n",
    "\n",
    "            # filter inactive stocks\n",
    "            non_null_val = non_null_val[techdata.px_adj * techdata.vlm_adj > INACTIVE_TRADING_AMOUNT]\n",
    "            if len(non_null_val) < MIN_STOCKS:\n",
    "                # print(f\"no enough valid stocks at tick {cur_tick}\")\n",
    "                continue\n",
    "\n",
    "            # long top and short bottom\n",
    "            new_position = []\n",
    "            non_null_val.sort_values(ascending=False, inplace=True)\n",
    "            universe_size = len(non_null_val)\n",
    "            top = non_null_val.index[:int(universe_size * LONG_SHORT_THRESHOLD)]\n",
    "            bottom = non_null_val.index[-int(universe_size * LONG_SHORT_THRESHOLD):]\n",
    "\n",
    "            # market cap weighting + market-neutral strategy\n",
    "            # stocks are first weighted by market cap\n",
    "            # then the weights of long and short positions are adjusted to make total beta zero\n",
    "            price_data = techdata.px_adj\n",
    "            # market cap is normalized and winsorized\n",
    "            mktcap = self.refdata.loc[price_data.index, 'shares'] * price_data\n",
    "            mktcap = np.log2(mktcap)\n",
    "            mktcap[:] = mstats.winsorize(mktcap, limits=[0.05, 0.05])  # avoid the impact of extreme value\n",
    "            beta_top = self.technical.loc[(cur_tick - 1, top), 'beta']\n",
    "            beta_top = beta_top.droplevel('tick')\n",
    "            beta_bottom = self.technical.loc[(cur_tick - 1, bottom), 'beta']\n",
    "            beta_bottom = beta_bottom.droplevel('tick')\n",
    "            mktcap_top = mktcap.loc[top]\n",
    "            mktcap_bottom = mktcap.loc[bottom]\n",
    "            mktcap_weighted_beta_top_sum = (mktcap_top * beta_top).sum()\n",
    "            mktcap_weighted_beta_bottom_sum = (mktcap_bottom * beta_bottom).sum()\n",
    "            if mktcap_weighted_beta_top_sum * mktcap_weighted_beta_bottom_sum <= 0:\n",
    "                print(f\"tick {cur_tick}: unable to reach neutral\")\n",
    "                continue\n",
    "            total_weight = 0\n",
    "            for stock in top:\n",
    "                weight = mktcap_weighted_beta_bottom_sum * mktcap_top.at[stock]\n",
    "                total_weight += weight\n",
    "            for stock in bottom:\n",
    "                weight = -mktcap_weighted_beta_top_sum * mktcap_bottom.at[stock]\n",
    "                total_weight += -weight\n",
    "            for stock in top:\n",
    "                weight = mktcap_weighted_beta_bottom_sum * mktcap_top.at[stock] / total_weight\n",
    "                new_position.append((cur_tick, stock, weight))\n",
    "            for stock in bottom:\n",
    "                weight = -mktcap_weighted_beta_top_sum * mktcap_bottom.at[stock] / total_weight\n",
    "                new_position.append((cur_tick, stock, weight))\n",
    "\n",
    "            new_position = pd.DataFrame(new_position, columns=[\"tick\", \"id\", \"weight\"])\n",
    "            new_position.set_index([\"tick\", \"id\"], inplace=True)\n",
    "            trading_history.append(new_position)\n",
    "        self.trading_history = pd.concat(trading_history) if len(trading_history) > 0 else pd.DataFrame()\n",
    "\n",
    "    def analyze(self, plot=False):\n",
    "        # compute statistics according to trading history\n",
    "        trading_history = self.trading_history\n",
    "        if len(trading_history) <= 1:\n",
    "            print(\"length of trading history less than 2, skip analysis\")\n",
    "            return pd.Series()\n",
    "        trade_ticks = trading_history.index.get_level_values('tick').unique()\n",
    "        # returns\n",
    "        rets_no_tx_fee = self.__rets_no_tx_fee()  # a series of returns on trades without considering tx fees\n",
    "        # consider tx fees\n",
    "        turnovers = self.__turnovers()\n",
    "        asset = 1  # assuming total asset is 1\n",
    "        transac_cost = 0\n",
    "        rets = []\n",
    "        for i in range(len(trade_ticks) - 1):\n",
    "            transac_cost += asset * 2 * turnovers[i] * self.fee_rate\n",
    "            ret = (1 - 2 * turnovers[i] * self.fee_rate) * (rets_no_tx_fee[i]+1) - 1\n",
    "            asset = asset * (ret+1) \n",
    "            rets.append(ret)\n",
    "        rets = np.array(rets)\n",
    "\n",
    "        # compute max drawdown\n",
    "        cum_rets = (rets + 1).cumprod()\n",
    "        max_ret = -1\n",
    "        max_draw_dawn = 0\n",
    "        for ret in cum_rets:\n",
    "            if ret > max_ret:\n",
    "                max_ret = ret\n",
    "            max_draw_dawn = max(max_draw_dawn, (max_ret - ret) / max_ret)\n",
    "        \n",
    "        #plot cumulative return if necessary\n",
    "        if plot:\n",
    "            sns.set(rc={'figure.figsize': (12, 5)})\n",
    "            dots_num = 8 # 8 or 9\n",
    "            interval = max(1,(len(trade_ticks) - 1)//dots_num)\n",
    "            plot_dates = []\n",
    "            plot_cum_rets = []\n",
    "            for i in range(len(trade_ticks)-1):\n",
    "                if i%interval==0 or i==len(trade_ticks)-2:\n",
    "                    plot_dates.append(self.tick_date_map[trade_ticks[i]])\n",
    "                    plot_cum_rets.append(cum_rets[i])\n",
    "            sns.lineplot(pd.DataFrame(plot_cum_rets, index=plot_dates))\n",
    "            plt.title(\"cumulative return vs date\")\n",
    "            plt.legend('')\n",
    "            plt.show()\n",
    "        \n",
    "        statistics = pd.Series()\n",
    "        statistics['cum return'] = (rets + 1).prod() - 1\n",
    "        statistics['annual sharp ratio'] = rets.mean() / rets.std() * (252 / self.period) ** 0.5\n",
    "        statistics['return on trade'] = rets.mean()\n",
    "        statistics['number of trades'] = len(trade_ticks)\n",
    "        statistics['transac cost'] = transac_cost\n",
    "        statistics['max drawdown'] = max_draw_dawn\n",
    "        statistics['average turnover'] = turnovers.mean()\n",
    "        return statistics\n",
    "\n",
    "    def __rets_no_tx_fee(self):\n",
    "        trading_history = self.trading_history\n",
    "        # returns\n",
    "        rets = []\n",
    "        trade_ticks = trading_history.index.get_level_values('tick').unique()\n",
    "        for i in range(len(trade_ticks) - 1):\n",
    "            cur_tick = trade_ticks[i]\n",
    "            next_tick = trade_ticks[i + 1]\n",
    "            stocks = trading_history.loc[cur_tick].index\n",
    "            weights = trading_history.loc[cur_tick, 'weight']\n",
    "            cur_price = self.technical.loc[(cur_tick, stocks), 'px_adj']\n",
    "            cur_price = cur_price.droplevel('tick')\n",
    "\n",
    "            # possible that stocks delisted or miss prices\n",
    "            # use most recent price instead, assuming stocks sold earlier\n",
    "            missing_stocks = stocks.difference(self.technical.loc[next_tick].index)\n",
    "            next_price = self.technical.loc[(next_tick, stocks.difference(missing_stocks)), 'px_adj']\n",
    "            for stock in missing_stocks:\n",
    "                c = 0\n",
    "                while (next_tick - c, stock) not in self.technical.index:\n",
    "                    c += 1\n",
    "                    assert c <= next_tick - cur_tick, \"at worst the loop should stop at cur_tick\"\n",
    "                next_price[(next_tick, stock)] = self.technical.at[(next_tick - c, stock), 'px_adj']\n",
    "            next_price = next_price.droplevel('tick')\n",
    "            ret = ((next_price - cur_price) / cur_price * weights).sum()\n",
    "            rets.append(ret)\n",
    "        rets = np.array(rets)\n",
    "        return rets\n",
    "\n",
    "    def __turnovers(self):\n",
    "        trading_history = self.trading_history\n",
    "        trade_ticks = trading_history.index.get_level_values('tick').unique()\n",
    "        turnovers = []\n",
    "        for i in range(len(trade_ticks) - 1):\n",
    "            cur_tick = trade_ticks[i]\n",
    "            next_tick = trade_ticks[i + 1]\n",
    "            cur_stocks = trading_history.loc[cur_tick]\n",
    "            next_stocks = trading_history.loc[next_tick]\n",
    "            common = cur_stocks.index.intersection(next_stocks.index)\n",
    "            left = cur_stocks.index.difference(next_stocks.index)\n",
    "            right = next_stocks.index.difference(cur_stocks.index)\n",
    "            turnover = cur_stocks.loc[left].abs().sum() + next_stocks.loc[right].abs().sum() + (\n",
    "                    cur_stocks.loc[common] - next_stocks.loc[common]).abs().sum()\n",
    "            turnover = turnover / 2\n",
    "            turnovers.append(turnover)\n",
    "        turnovers = np.array(turnovers).reshape(-1)\n",
    "        return turnovers"
   ]
  },
  {
   "cell_type": "markdown",
   "source": [
    "### 3.2 Test\n",
    "\n",
    "First test all stocks and then test each sector.\n",
    "\n",
    "First, test all stocks."
   ],
   "metadata": {
    "collapsed": false
   },
   "id": "59c37583131ee656"
  },
  {
   "cell_type": "code",
   "execution_count": 20,
   "outputs": [
    {
     "data": {
      "text/plain": "<Figure size 1200x500 with 1 Axes>",
      "image/png": "[encoded data removed]"
     },
     "metadata": {},
     "output_type": "display_data"
    },
    {
     "data": {
      "text/plain": "cum return            -0.064144\nannual sharp ratio    -0.457256\nreturn on trade       -0.001853\nnumber of trades      35.000000\ntransac cost           0.007188\nmax drawdown           0.134773\naverage turnover       0.348961\nName: statistics, dtype: float64"
     },
     "execution_count": 20,
     "metadata": {},
     "output_type": "execute_result"
    }
   ],
   "source": [
    "def test(technical, fundamental, refdata, plot=False):\n",
    "    period = 22\n",
    "    backtest = BackTest(period, fee_rate=0.0003)\n",
    "    backtest.register_data(technical, fundamental, refdata)\n",
    "\n",
    "    ema_div_price = EMADivPrice(5)\n",
    "    pe_ratio = PERatio()\n",
    "    bbi_momentum = BBIMomentum()\n",
    "    value = Value()\n",
    "    indicators = [ema_div_price, pe_ratio, bbi_momentum, value]\n",
    "    signal = Signal(indicators)\n",
    "    backtest.register_signal(signal)\n",
    "\n",
    "    backtest.run()\n",
    "    return backtest.analyze(plot=plot)\n",
    "    \n",
    "statistics = test(technical, fundamental, refdata, plot=True)\n",
    "statistics.name='statistics'\n",
    "statistics"
   ],
   "metadata": {
    "collapsed": false,
    "ExecuteTime": {
     "end_time": "2023-07-31T10:11:45.514812Z",
     "start_time": "2023-07-31T10:11:36.201152400Z"
    }
   },
   "id": "8128d20c8e494abc"
  },
  {
   "cell_type": "markdown",
   "source": [
    "The strategy seems fine if traded in the opposite direction, while the turnover is still high. Despite that the result is still subject to overfitting or chance. Need to test more stocks and more data or perform out-of-sample test. "
   ],
   "metadata": {
    "collapsed": false
   },
   "id": "4f1ee1424731d4d8"
  },
  {
   "cell_type": "markdown",
   "source": [
    "Next test each sector, while only a few sectors have stocks more than 20 as shown below. "
   ],
   "metadata": {
    "collapsed": false
   },
   "id": "eab06b1aace86282"
  },
  {
   "cell_type": "code",
   "execution_count": 21,
   "outputs": [
    {
     "data": {
      "text/plain": "gics\nIndustrials               44\nInformation Technology    27\nConsumer Discretionary    26\nFinancials                21\nName: count, dtype: int64"
     },
     "execution_count": 21,
     "metadata": {},
     "output_type": "execute_result"
    }
   ],
   "source": [
    "refdata.gics.value_counts().loc[lambda x:x>=MIN_STOCKS]"
   ],
   "metadata": {
    "collapsed": false,
    "ExecuteTime": {
     "end_time": "2023-07-31T10:11:45.522811600Z",
     "start_time": "2023-07-31T10:11:45.512814900Z"
    }
   },
   "id": "61c07b70c9336de0"
  },
  {
   "cell_type": "code",
   "execution_count": 22,
   "outputs": [
    {
     "name": "stdout",
     "output_type": "stream",
     "text": [
      "test sector Industrials\n",
      "test sector Information Technology\n",
      "test sector Consumer Discretionary\n",
      "test sector Financials\n",
      "length of trading history less than 2, skip analysis\n"
     ]
    }
   ],
   "source": [
    "def test_sector(technical, fundamental, refdata, sector):\n",
    "    print(f'test sector {sector}')\n",
    "    refdata = refdata[refdata.gics == sector]\n",
    "    fundamental = fundamental.loc[(refdata.index, slice(None)), :]\n",
    "    technical = technical.loc[(slice(None), refdata.index), :].copy()\n",
    "    technical.sort_index(inplace=True)\n",
    "    return test(technical, fundamental, refdata, plot=False)\n",
    "\n",
    "# test by sector. only choose those have enough stocks.\n",
    "sectors = (refdata.gics.value_counts() >= MIN_STOCKS).loc[lambda x: x].index\n",
    "metrics = []\n",
    "for sector in sectors:\n",
    "    statistics = test_sector(technical, fundamental, refdata, sector)\n",
    "    if len(statistics)!=0:\n",
    "        statistics.name = sector\n",
    "        metrics.append(statistics)\n",
    "metrics = pd.DataFrame(metrics)"
   ],
   "metadata": {
    "collapsed": false,
    "ExecuteTime": {
     "end_time": "2023-07-31T10:11:51.777656900Z",
     "start_time": "2023-07-31T10:11:45.522811600Z"
    }
   },
   "id": "initial_id"
  },
  {
   "cell_type": "code",
   "execution_count": 23,
   "outputs": [
    {
     "data": {
      "text/plain": "                        cum return  annual sharp ratio  return on trade   \nIndustrials              -0.169125           -0.780983        -0.005182  \\\nInformation Technology   -0.023860           -0.153491        -0.001838   \nConsumer Discretionary   -0.071481           -0.504304        -0.003989   \n\n                        number of trades  transac cost  max drawdown   \nIndustrials                         35.0      0.011121      0.239331  \\\nInformation Technology              10.0      0.002675      0.118293   \nConsumer Discretionary              18.0      0.005008      0.122695   \n\n                        average turnover  \nIndustrials                     0.564381  \nInformation Technology          0.500140  \nConsumer Discretionary          0.531723  ",
      "text/html": "<div>\n<style scoped>\n    .dataframe tbody tr th:only-of-type {\n        vertical-align: middle;\n    }\n\n    .dataframe tbody tr th {\n        vertical-align: top;\n    }\n\n    .dataframe thead th {\n        text-align: right;\n    }\n</style>\n<table border=\"1\" class=\"dataframe\">\n  <thead>\n    <tr style=\"text-align: right;\">\n      <th></th>\n      <th>cum return</th>\n      <th>annual sharp ratio</th>\n      <th>return on trade</th>\n      <th>number of trades</th>\n      <th>transac cost</th>\n      <th>max drawdown</th>\n      <th>average turnover</th>\n    </tr>\n  </thead>\n  <tbody>\n    <tr>\n      <th>Industrials</th>\n      <td>-0.169125</td>\n      <td>-0.780983</td>\n      <td>-0.005182</td>\n      <td>35.0</td>\n      <td>0.011121</td>\n      <td>0.239331</td>\n      <td>0.564381</td>\n    </tr>\n    <tr>\n      <th>Information Technology</th>\n      <td>-0.023860</td>\n      <td>-0.153491</td>\n      <td>-0.001838</td>\n      <td>10.0</td>\n      <td>0.002675</td>\n      <td>0.118293</td>\n      <td>0.500140</td>\n    </tr>\n    <tr>\n      <th>Consumer Discretionary</th>\n      <td>-0.071481</td>\n      <td>-0.504304</td>\n      <td>-0.003989</td>\n      <td>18.0</td>\n      <td>0.005008</td>\n      <td>0.122695</td>\n      <td>0.531723</td>\n    </tr>\n  </tbody>\n</table>\n</div>"
     },
     "execution_count": 23,
     "metadata": {},
     "output_type": "execute_result"
    }
   ],
   "source": [
    "metrics"
   ],
   "metadata": {
    "collapsed": false,
    "ExecuteTime": {
     "end_time": "2023-07-31T10:11:51.784650100Z",
     "start_time": "2023-07-31T10:11:51.773649200Z"
    }
   },
   "id": "f8be46f613feeff4"
  },
  {
   "cell_type": "markdown",
   "source": [
    "The sector Financials is not listed for insufficient trading history. \n",
    "The strategy looks good in the sector Industrials and Consumer Discretionary if traded in opposite direction, while the turnover is still high, and the max drawdown for Industrials is also high. As stated before, the result is still subject to overfitting or chance."
   ],
   "metadata": {
    "collapsed": false
   },
   "id": "9a7f914d02b8460f"
  },
  {
   "cell_type": "markdown",
   "source": [
    "## 4. Summary\n",
    "\n",
    "The backtest result is still not ideal. There are still many works left to do, such as designing more factors, factor validity test, decent factor combination, sensitive test, porfolio optimization, etc."
   ],
   "metadata": {
    "collapsed": false
   },
   "id": "50235845b9468ba7"
  }
 ],
 "metadata": {
  "kernelspec": {
   "display_name": "Python 3",
   "language": "python",
   "name": "python3"
  },
  "language_info": {
   "codemirror_mode": {
    "name": "ipython",
    "version": 2
   },
   "file_extension": ".py",
   "mimetype": "text/x-python",
   "name": "python",
   "nbconvert_exporter": "python",
   "pygments_lexer": "ipython2",
   "version": "2.7.6"
  }
 },
 "nbformat": 4,
 "nbformat_minor": 5
}
